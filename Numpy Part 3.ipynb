{
 "cells": [
  {
   "cell_type": "markdown",
   "id": "0f4bb217-e63d-4564-9ba9-bf493a1edd57",
   "metadata": {},
   "source": [
    "Numpy Array Manipulation "
   ]
  },
  {
   "cell_type": "code",
   "execution_count": 1,
   "id": "21eb7113-e65d-4cf0-84b8-a5ef2f641fd7",
   "metadata": {},
   "outputs": [],
   "source": [
    "\n",
    "import numpy as np"
   ]
  },
  {
   "cell_type": "code",
   "execution_count": 3,
   "id": "fdff7af7-b477-4b43-9dff-b2047579d8b3",
   "metadata": {},
   "outputs": [],
   "source": [
    "#creating a 3x4 matrix\n",
    "\n",
    "arr = np.random.randint(1,10,(3,4))"
   ]
  },
  {
   "cell_type": "code",
   "execution_count": 4,
   "id": "37e7a34b-3208-44bd-b953-238ec37d6506",
   "metadata": {},
   "outputs": [
    {
     "data": {
      "text/plain": [
       "array([[9, 7, 2, 4],\n",
       "       [4, 6, 3, 5],\n",
       "       [6, 4, 5, 4]])"
      ]
     },
     "execution_count": 4,
     "metadata": {},
     "output_type": "execute_result"
    }
   ],
   "source": [
    "arr"
   ]
  },
  {
   "cell_type": "code",
   "execution_count": 5,
   "id": "14716014-3cb3-4c09-8c08-604eb7d1207e",
   "metadata": {},
   "outputs": [
    {
     "data": {
      "text/plain": [
       "array([[9, 7],\n",
       "       [2, 4],\n",
       "       [4, 6],\n",
       "       [3, 5],\n",
       "       [6, 4],\n",
       "       [5, 4]])"
      ]
     },
     "execution_count": 5,
     "metadata": {},
     "output_type": "execute_result"
    }
   ],
   "source": [
    "\n",
    "arr.reshape(6,2)"
   ]
  },
  {
   "cell_type": "code",
   "execution_count": 6,
   "id": "a66a00a2-32ce-4301-99e8-172ed8584075",
   "metadata": {},
   "outputs": [
    {
     "data": {
      "text/plain": [
       "array([[9, 7, 2, 4, 4, 6],\n",
       "       [3, 5, 6, 4, 5, 4]])"
      ]
     },
     "execution_count": 6,
     "metadata": {},
     "output_type": "execute_result"
    }
   ],
   "source": [
    "\n",
    "arr.reshape(2,6)"
   ]
  },
  {
   "cell_type": "code",
   "execution_count": 7,
   "id": "8b7dc97c-ebf5-4cfb-b196-1a7ecec62f3b",
   "metadata": {},
   "outputs": [
    {
     "data": {
      "text/plain": [
       "array([[9, 4, 6],\n",
       "       [7, 6, 4],\n",
       "       [2, 3, 5],\n",
       "       [4, 5, 4]])"
      ]
     },
     "execution_count": 7,
     "metadata": {},
     "output_type": "execute_result"
    }
   ],
   "source": [
    "#Transposing matrix by the 180 degree\n",
    "\n",
    "arr.T"
   ]
  },
  {
   "cell_type": "code",
   "execution_count": 8,
   "id": "3dcb8483-8029-47a3-9a07-59f421fc23f0",
   "metadata": {},
   "outputs": [
    {
     "data": {
      "text/plain": [
       "array([9, 7, 2, 4, 4, 6, 3, 5, 6, 4, 5, 4])"
      ]
     },
     "execution_count": 8,
     "metadata": {},
     "output_type": "execute_result"
    }
   ],
   "source": [
    "#Converting 2d array into 1dimension using .flatten() function \n",
    "\n",
    "arr.flatten()"
   ]
  },
  {
   "cell_type": "code",
   "execution_count": 10,
   "id": "f6cd98f0-e709-4a3f-b287-8cd6fe8f9b3a",
   "metadata": {},
   "outputs": [],
   "source": [
    "arr1 = np.array([1,2,3,4])"
   ]
  },
  {
   "cell_type": "code",
   "execution_count": 11,
   "id": "f78b1b1a-19f7-4bbd-828f-7341559f5958",
   "metadata": {},
   "outputs": [
    {
     "data": {
      "text/plain": [
       "array([1, 2, 3, 4])"
      ]
     },
     "execution_count": 11,
     "metadata": {},
     "output_type": "execute_result"
    }
   ],
   "source": [
    "arr1"
   ]
  },
  {
   "cell_type": "code",
   "execution_count": 13,
   "id": "ee2f4497-1af8-44be-8467-f35e5b5a3ea8",
   "metadata": {},
   "outputs": [
    {
     "data": {
      "text/plain": [
       "1"
      ]
     },
     "execution_count": 13,
     "metadata": {},
     "output_type": "execute_result"
    }
   ],
   "source": [
    "arr1.ndim #Checking the dimension of the array "
   ]
  },
  {
   "cell_type": "code",
   "execution_count": 14,
   "id": "76dd253e-4942-4f5e-b873-4abf364f4190",
   "metadata": {},
   "outputs": [],
   "source": [
    "#Changing the dimension from 1d to 2d\n",
    "\n",
    "yy = np.expand_dims(arr1, axis = 1)"
   ]
  },
  {
   "cell_type": "code",
   "execution_count": 15,
   "id": "bf8f6aad-e874-497d-ac6b-1ef8dda2886b",
   "metadata": {},
   "outputs": [
    {
     "data": {
      "text/plain": [
       "array([[1],\n",
       "       [2],\n",
       "       [3],\n",
       "       [4]])"
      ]
     },
     "execution_count": 15,
     "metadata": {},
     "output_type": "execute_result"
    }
   ],
   "source": [
    "yy"
   ]
  },
  {
   "cell_type": "code",
   "execution_count": 16,
   "id": "6416fcd2-d6f0-41ca-a41d-d77768c922a9",
   "metadata": {},
   "outputs": [],
   "source": [
    "xy = yy.T"
   ]
  },
  {
   "cell_type": "code",
   "execution_count": 17,
   "id": "4a972922-1114-4c2d-b348-5a55427c8978",
   "metadata": {},
   "outputs": [
    {
     "data": {
      "text/plain": [
       "array([[1, 2, 3, 4]])"
      ]
     },
     "execution_count": 17,
     "metadata": {},
     "output_type": "execute_result"
    }
   ],
   "source": [
    "xy"
   ]
  },
  {
   "cell_type": "code",
   "execution_count": 18,
   "id": "31a069db-a9a6-496e-b0b6-c268b3e067ee",
   "metadata": {},
   "outputs": [
    {
     "data": {
      "text/plain": [
       "array([[1, 2],\n",
       "       [3, 4]])"
      ]
     },
     "execution_count": 18,
     "metadata": {},
     "output_type": "execute_result"
    }
   ],
   "source": [
    "xy.reshape(2,2)"
   ]
  },
  {
   "cell_type": "code",
   "execution_count": 19,
   "id": "33733dd1-82ce-45da-98f5-c71d1052b075",
   "metadata": {},
   "outputs": [
    {
     "data": {
      "text/plain": [
       "array([[9, 7, 2, 4],\n",
       "       [4, 6, 3, 5],\n",
       "       [6, 4, 5, 4]])"
      ]
     },
     "execution_count": 19,
     "metadata": {},
     "output_type": "execute_result"
    }
   ],
   "source": [
    "np.squeeze(arr) #Squeeze not performing accordint to expectation"
   ]
  },
  {
   "cell_type": "code",
   "execution_count": 20,
   "id": "99f8bbf1-9701-4138-a78d-14a2d684c481",
   "metadata": {},
   "outputs": [],
   "source": [
    "#So creatinf a new data \n",
    "data = np.array([[1] , [2] , [3]])"
   ]
  },
  {
   "cell_type": "code",
   "execution_count": 21,
   "id": "cf4301c1-4140-44a7-aa94-d7a7b8374442",
   "metadata": {},
   "outputs": [
    {
     "data": {
      "text/plain": [
       "array([[1],\n",
       "       [2],\n",
       "       [3]])"
      ]
     },
     "execution_count": 21,
     "metadata": {},
     "output_type": "execute_result"
    }
   ],
   "source": [
    "data"
   ]
  },
  {
   "cell_type": "code",
   "execution_count": 22,
   "id": "a23b6607-a31a-4e30-a0cc-f83547549d1d",
   "metadata": {},
   "outputs": [
    {
     "data": {
      "text/plain": [
       "array([1, 2, 3])"
      ]
     },
     "execution_count": 22,
     "metadata": {},
     "output_type": "execute_result"
    }
   ],
   "source": [
    "#squeezing data into 1 deimension\n",
    "np.squeeze(data)"
   ]
  },
  {
   "cell_type": "code",
   "execution_count": 26,
   "id": "065aa080-9efa-4d2f-819a-3ef1ad7a46b0",
   "metadata": {},
   "outputs": [
    {
     "data": {
      "text/plain": [
       "array([1, 2, 3, 4])"
      ]
     },
     "execution_count": 26,
     "metadata": {},
     "output_type": "execute_result"
    }
   ],
   "source": [
    "arr1"
   ]
  },
  {
   "cell_type": "code",
   "execution_count": 23,
   "id": "c5e0d828-781d-4ccd-8726-65eee319a55a",
   "metadata": {},
   "outputs": [
    {
     "data": {
      "text/plain": [
       "array([1, 1, 1, 2, 2, 2, 3, 3, 3, 4, 4, 4])"
      ]
     },
     "execution_count": 23,
     "metadata": {},
     "output_type": "execute_result"
    }
   ],
   "source": [
    "#repeat elements given times #3 times\n",
    "\n",
    "np.repeat(arr1,3)\n"
   ]
  },
  {
   "cell_type": "code",
   "execution_count": 28,
   "id": "38c6f0d7-1321-4a1c-b1dc-b044488e6aaa",
   "metadata": {},
   "outputs": [
    {
     "data": {
      "text/plain": [
       "array([3, 4, 1, 2])"
      ]
     },
     "execution_count": 28,
     "metadata": {},
     "output_type": "execute_result"
    }
   ],
   "source": [
    "#will shift , roll according to given number\n",
    "\n",
    "np.roll(arr1,2)"
   ]
  },
  {
   "cell_type": "code",
   "execution_count": 29,
   "id": "74187f67-a998-4ae7-90c2-60ae02e23377",
   "metadata": {},
   "outputs": [
    {
     "data": {
      "text/plain": [
       "array([2, 3, 4, 1])"
      ]
     },
     "execution_count": 29,
     "metadata": {},
     "output_type": "execute_result"
    }
   ],
   "source": [
    "np.roll(arr1,3)"
   ]
  },
  {
   "cell_type": "code",
   "execution_count": 32,
   "id": "724be5e5-499c-465e-bde0-4e8a448a2991",
   "metadata": {},
   "outputs": [
    {
     "data": {
      "text/plain": [
       "array([2, 3, 4, 1])"
      ]
     },
     "execution_count": 32,
     "metadata": {},
     "output_type": "execute_result"
    }
   ],
   "source": [
    "np.roll(arr1,3) #Shifing sll the element 3times \n",
    "#index of 1 was zero but after shifting its on 3\n",
    "#index of 2 was one but after shifting its on 0 and so on"
   ]
  },
  {
   "cell_type": "code",
   "execution_count": 33,
   "id": "e32fa5de-5666-4763-bf4b-5d6360655dff",
   "metadata": {},
   "outputs": [
    {
     "data": {
      "text/plain": [
       "array([[1, 0, 0, 0],\n",
       "       [0, 2, 0, 0],\n",
       "       [0, 0, 3, 0],\n",
       "       [0, 0, 0, 4]])"
      ]
     },
     "execution_count": 33,
     "metadata": {},
     "output_type": "execute_result"
    }
   ],
   "source": [
    "#it will put gives matrix in diagonal form \n",
    "\n",
    "np.diag(arr1)"
   ]
  },
  {
   "cell_type": "markdown",
   "id": "df44ee0c-0203-46ab-90bc-f557b75b6178",
   "metadata": {},
   "source": [
    "#Binary operation [= , - , x , /]"
   ]
  },
  {
   "cell_type": "code",
   "execution_count": 34,
   "id": "40d8674a-9e59-484a-8d2b-355c2860e742",
   "metadata": {},
   "outputs": [],
   "source": [
    "arr1 = np.random.randint(1,10 , (3,4))\n",
    "arr2 = np.random.randint(1,10 , (3,4))"
   ]
  },
  {
   "cell_type": "code",
   "execution_count": 35,
   "id": "4c6d4414-c854-47bb-9a33-5959a62e583d",
   "metadata": {},
   "outputs": [
    {
     "data": {
      "text/plain": [
       "array([[2, 7, 8, 8],\n",
       "       [3, 6, 9, 7],\n",
       "       [6, 7, 1, 2]])"
      ]
     },
     "execution_count": 35,
     "metadata": {},
     "output_type": "execute_result"
    }
   ],
   "source": [
    "\n",
    "arr1"
   ]
  },
  {
   "cell_type": "code",
   "execution_count": 36,
   "id": "cecda2d0-bca2-46e1-b094-f96f5f9c1853",
   "metadata": {},
   "outputs": [
    {
     "data": {
      "text/plain": [
       "array([[4, 8, 4, 7],\n",
       "       [3, 7, 3, 9],\n",
       "       [4, 9, 8, 8]])"
      ]
     },
     "execution_count": 36,
     "metadata": {},
     "output_type": "execute_result"
    }
   ],
   "source": [
    "arr2"
   ]
  },
  {
   "cell_type": "code",
   "execution_count": 37,
   "id": "9b68cf35-e8f6-47df-afcf-3cad3ae46d5c",
   "metadata": {},
   "outputs": [
    {
     "data": {
      "text/plain": [
       "array([[ 6, 15, 12, 15],\n",
       "       [ 6, 13, 12, 16],\n",
       "       [10, 16,  9, 10]])"
      ]
     },
     "execution_count": 37,
     "metadata": {},
     "output_type": "execute_result"
    }
   ],
   "source": [
    "arr1 +arr2"
   ]
  },
  {
   "cell_type": "code",
   "execution_count": 38,
   "id": "93b1823f-8d30-4ba5-a179-8ba7f0d288b7",
   "metadata": {},
   "outputs": [
    {
     "data": {
      "text/plain": [
       "array([[0.5       , 0.875     , 2.        , 1.14285714],\n",
       "       [1.        , 0.85714286, 3.        , 0.77777778],\n",
       "       [1.5       , 0.77777778, 0.125     , 0.25      ]])"
      ]
     },
     "execution_count": 38,
     "metadata": {},
     "output_type": "execute_result"
    }
   ],
   "source": [
    "arr1/arr2\n"
   ]
  },
  {
   "cell_type": "code",
   "execution_count": 39,
   "id": "6cf1e819-0a63-4fa4-ae6e-1786e0ae31ae",
   "metadata": {},
   "outputs": [
    {
     "data": {
      "text/plain": [
       "array([[ 8, 56, 32, 56],\n",
       "       [ 9, 42, 27, 63],\n",
       "       [24, 63,  8, 16]])"
      ]
     },
     "execution_count": 39,
     "metadata": {},
     "output_type": "execute_result"
    }
   ],
   "source": [
    "arr1*arr2 #not matrix multiplication"
   ]
  },
  {
   "cell_type": "code",
   "execution_count": 40,
   "id": "313a5652-b52a-403f-af7a-c27095b822ee",
   "metadata": {},
   "outputs": [
    {
     "data": {
      "text/plain": [
       "array([[2, 7, 0, 1],\n",
       "       [0, 6, 0, 7],\n",
       "       [2, 7, 1, 2]])"
      ]
     },
     "execution_count": 40,
     "metadata": {},
     "output_type": "execute_result"
    }
   ],
   "source": [
    "#remainder operation\n",
    "arr1 % arr2"
   ]
  },
  {
   "cell_type": "code",
   "execution_count": 41,
   "id": "56844636-1bc1-4f2c-9176-65de04363169",
   "metadata": {},
   "outputs": [
    {
     "data": {
      "text/plain": [
       "array([[      16,  5764801,     4096,  2097152],\n",
       "       [      27,   279936,      729, 40353607],\n",
       "       [    1296, 40353607,        1,      256]])"
      ]
     },
     "execution_count": 41,
     "metadata": {},
     "output_type": "execute_result"
    }
   ],
   "source": [
    "arr1 ** arr2"
   ]
  },
  {
   "cell_type": "code",
   "execution_count": 42,
   "id": "9a259e0b-f600-42b2-964b-1106f29f7e5f",
   "metadata": {},
   "outputs": [
    {
     "data": {
      "text/plain": [
       "array([[0, 0, 0, 0],\n",
       "       [3, 6, 1, 1],\n",
       "       [4, 1, 0, 0]])"
      ]
     },
     "execution_count": 42,
     "metadata": {},
     "output_type": "execute_result"
    }
   ],
   "source": [
    "#perforaming AND operation on arr1 ,arr2\n",
    "arr1 & arr2"
   ]
  },
  {
   "cell_type": "code",
   "execution_count": 43,
   "id": "05324981-44ee-4566-a901-fe5a8bfdf216",
   "metadata": {},
   "outputs": [
    {
     "data": {
      "text/plain": [
       "array([[4, 8, 4, 7],\n",
       "       [3, 7, 3, 9],\n",
       "       [4, 9, 8, 8]])"
      ]
     },
     "execution_count": 43,
     "metadata": {},
     "output_type": "execute_result"
    }
   ],
   "source": [
    "arr2"
   ]
  },
  {
   "cell_type": "code",
   "execution_count": 44,
   "id": "e591ad90-6817-49dd-8ad8-6fa38f5915ae",
   "metadata": {},
   "outputs": [
    {
     "data": {
      "text/plain": [
       "array([[-2, -7, -8, -8],\n",
       "       [-3, -6, -9, -7],\n",
       "       [-6, -7, -1, -2]])"
      ]
     },
     "execution_count": 44,
     "metadata": {},
     "output_type": "execute_result"
    }
   ],
   "source": [
    "#negate operation #Turn into negative values\n",
    "-arr1"
   ]
  },
  {
   "cell_type": "code",
   "execution_count": 45,
   "id": "1a7a0bc9-3a45-443f-9195-7abc3dd142b3",
   "metadata": {},
   "outputs": [
    {
     "data": {
      "text/plain": [
       "array([[ 6, 15, 12, 15],\n",
       "       [ 3,  7, 11, 15],\n",
       "       [ 6, 15,  9, 10]])"
      ]
     },
     "execution_count": 45,
     "metadata": {},
     "output_type": "execute_result"
    }
   ],
   "source": [
    "#Performing or OR operation\n",
    "\n",
    "arr1 | arr2"
   ]
  },
  {
   "cell_type": "code",
   "execution_count": 49,
   "id": "eebe6e52-93cf-4926-9314-39307342f8d9",
   "metadata": {},
   "outputs": [
    {
     "data": {
      "text/plain": [
       "array([[False, False,  True,  True],\n",
       "       [False, False,  True, False],\n",
       "       [ True, False, False, False]])"
      ]
     },
     "execution_count": 49,
     "metadata": {},
     "output_type": "execute_result"
    }
   ],
   "source": [
    "arr1 > arr2"
   ]
  },
  {
   "cell_type": "code",
   "execution_count": 50,
   "id": "10bc159b-80db-4fcc-b5d9-a7543548c147",
   "metadata": {},
   "outputs": [
    {
     "data": {
      "text/plain": [
       "array([8, 8, 9, 6])"
      ]
     },
     "execution_count": 50,
     "metadata": {},
     "output_type": "execute_result"
    }
   ],
   "source": [
    "arr1[arr1>arr2]"
   ]
  },
  {
   "cell_type": "code",
   "execution_count": 51,
   "id": "be901f50-cbf0-4689-848a-3a900cdd1c05",
   "metadata": {},
   "outputs": [],
   "source": [
    "arr = np.array([\"shad\" , \"khan\"])"
   ]
  },
  {
   "cell_type": "code",
   "execution_count": 52,
   "id": "ea5bf59f-c9ca-4fff-bcdf-7ff061f084a5",
   "metadata": {},
   "outputs": [
    {
     "data": {
      "text/plain": [
       "array(['shad', 'khan'], dtype='<U4')"
      ]
     },
     "execution_count": 52,
     "metadata": {},
     "output_type": "execute_result"
    }
   ],
   "source": [
    "arr"
   ]
  },
  {
   "cell_type": "code",
   "execution_count": 53,
   "id": "862c0406-bed6-4476-8cd8-bce1a63989b9",
   "metadata": {},
   "outputs": [
    {
     "data": {
      "text/plain": [
       "array(['SHAD', 'KHAN'], dtype='<U4')"
      ]
     },
     "execution_count": 53,
     "metadata": {},
     "output_type": "execute_result"
    }
   ],
   "source": [
    "np.char.upper(arr)"
   ]
  },
  {
   "cell_type": "code",
   "execution_count": 54,
   "id": "da05273f-4da0-448d-8212-d0ca6b39e3d4",
   "metadata": {},
   "outputs": [
    {
     "data": {
      "text/plain": [
       "array(['Shad', 'Khan'], dtype='<U4')"
      ]
     },
     "execution_count": 54,
     "metadata": {},
     "output_type": "execute_result"
    }
   ],
   "source": [
    "np.char.title(arr)"
   ]
  },
  {
   "cell_type": "code",
   "execution_count": null,
   "id": "b7039142-8f5e-472b-95e8-21d85b4ad455",
   "metadata": {},
   "outputs": [],
   "source": []
  }
 ],
 "metadata": {
  "kernelspec": {
   "display_name": "Python 3 (ipykernel)",
   "language": "python",
   "name": "python3"
  },
  "language_info": {
   "codemirror_mode": {
    "name": "ipython",
    "version": 3
   },
   "file_extension": ".py",
   "mimetype": "text/x-python",
   "name": "python",
   "nbconvert_exporter": "python",
   "pygments_lexer": "ipython3",
   "version": "3.10.8"
  }
 },
 "nbformat": 4,
 "nbformat_minor": 5
}
