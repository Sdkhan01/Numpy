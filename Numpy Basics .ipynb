{
 "cells": [
  {
   "cell_type": "markdown",
   "id": "f90ff579-4413-4c52-8e46-50786e273f34",
   "metadata": {},
   "source": [
    "Numpy : NumPy can be used to perform a wide variety of mathematical operations on arrays. It adds powerful data structures to Python that guarantee efficient calculations with arrays and matrices and it supplies an enormous library of high-level mathematical functions that operate on these arrays and matrices."
   ]
  },
  {
   "cell_type": "code",
   "execution_count": 2,
   "id": "72ee9c98-374f-4cb6-b4b8-b0e8425bc725",
   "metadata": {},
   "outputs": [],
   "source": [
    "import numpy as np"
   ]
  },
  {
   "cell_type": "code",
   "execution_count": 3,
   "id": "f2b5b88b-0585-486f-ad81-968459ed4354",
   "metadata": {},
   "outputs": [],
   "source": [
    "#Createing a list \n",
    "\n",
    "l = [1,2,3,4,]"
   ]
  },
  {
   "cell_type": "code",
   "execution_count": 5,
   "id": "ce85f96b-a1e4-4646-97f5-cc22cfa90683",
   "metadata": {},
   "outputs": [
    {
     "data": {
      "text/plain": [
       "[1, 2, 3, 4]"
      ]
     },
     "execution_count": 5,
     "metadata": {},
     "output_type": "execute_result"
    }
   ],
   "source": [
    "l"
   ]
  },
  {
   "cell_type": "code",
   "execution_count": 6,
   "id": "642b6b39-aef4-4a80-9220-8e0a06549fe5",
   "metadata": {},
   "outputs": [
    {
     "data": {
      "text/plain": [
       "list"
      ]
     },
     "execution_count": 6,
     "metadata": {},
     "output_type": "execute_result"
    }
   ],
   "source": [
    "#Here we can see , type of l is list \n",
    "type(l)"
   ]
  },
  {
   "cell_type": "code",
   "execution_count": 7,
   "id": "cfe443ef-453a-402e-8f9d-ee7bd300a87f",
   "metadata": {},
   "outputs": [],
   "source": [
    "#Converting it into array using np.array() function -\n",
    "\n",
    "ar = np.array(l)"
   ]
  },
  {
   "cell_type": "code",
   "execution_count": 8,
   "id": "07c16561-4ddb-4ff1-8478-562b0ce18f99",
   "metadata": {},
   "outputs": [
    {
     "data": {
      "text/plain": [
       "array([1, 2, 3, 4])"
      ]
     },
     "execution_count": 8,
     "metadata": {},
     "output_type": "execute_result"
    }
   ],
   "source": [
    "ar"
   ]
  },
  {
   "cell_type": "code",
   "execution_count": 10,
   "id": "4f053c31-8107-4ecf-9e7c-3ba1d9e94d27",
   "metadata": {},
   "outputs": [
    {
     "data": {
      "text/plain": [
       "numpy.ndarray"
      ]
     },
     "execution_count": 10,
     "metadata": {},
     "output_type": "execute_result"
    }
   ],
   "source": [
    "#Type of ar is now 1d array\n",
    "type(ar)"
   ]
  },
  {
   "cell_type": "code",
   "execution_count": 12,
   "id": "ddac08ca-a7d2-4f3b-8348-7eaca5c04f3a",
   "metadata": {},
   "outputs": [
    {
     "data": {
      "text/plain": [
       "array([[1, 2],\n",
       "       [3, 4]])"
      ]
     },
     "execution_count": 12,
     "metadata": {},
     "output_type": "execute_result"
    }
   ],
   "source": [
    "#Making a 2d array \n",
    "#! bracket = 1f array, 2[[]] bracket = 2d array\n",
    "\n",
    "#The np.array() in Python is used to convert a list, tuple, etc. into a Numpy array.\n",
    "\n",
    "np.array([[1,2], [3,4]])"
   ]
  },
  {
   "cell_type": "code",
   "execution_count": 14,
   "id": "7572c5ad-14de-4128-95fa-b6eada08e20f",
   "metadata": {},
   "outputs": [
    {
     "data": {
      "text/plain": [
       "array([1, 2, 3, 4])"
      ]
     },
     "execution_count": 14,
     "metadata": {},
     "output_type": "execute_result"
    }
   ],
   "source": [
    "#We Can also  implement array using asarray\n",
    "#The numpy.asarray()function is used when we want to convert the input to an array. \n",
    "#Input can be lists, lists of tuples, tuples, tuples of tuples, tuples of lists and arrays\n",
    "\n",
    "np.asarray(l)"
   ]
  },
  {
   "cell_type": "code",
   "execution_count": 15,
   "id": "0b817737-1c68-4d4d-a24d-ec7bf6c66aad",
   "metadata": {},
   "outputs": [],
   "source": [
    "a = [2,3,4]"
   ]
  },
  {
   "cell_type": "code",
   "execution_count": 17,
   "id": "4db59631-201a-4025-832d-10c34b122cfd",
   "metadata": {},
   "outputs": [
    {
     "data": {
      "text/plain": [
       "array([2, 3, 4])"
      ]
     },
     "execution_count": 17,
     "metadata": {},
     "output_type": "execute_result"
    }
   ],
   "source": [
    "#Can also conver it into array using as any array\n",
    "\n",
    "np.asanyarray(a)"
   ]
  },
  {
   "cell_type": "markdown",
   "id": "5d8b1282-09b9-4124-9342-4e3ce4468959",
   "metadata": {},
   "source": [
    "Numpy array VS Numpy asarray-\n",
    "\n",
    "In Python, NumPy array and NumPy asarray are used to convert the data into ndarray. If we talk about the major difference that is when we make a NumPy array using np.array, it creates a copy of the object array or the original array and does not reflect any changes made to the original array. Whereas on the other hand, when we try to use NumPy asarray, it would reflect all the changes made to the original array."
   ]
  },
  {
   "cell_type": "code",
   "execution_count": 18,
   "id": "d22a1b7a-56ee-471d-9160-affe53f5eb49",
   "metadata": {},
   "outputs": [],
   "source": [
    "#Converting it into matrix\n",
    "#its 2d because matrix is alwasy in 2d form\n",
    "\n",
    "m = np.matrix(l)"
   ]
  },
  {
   "cell_type": "code",
   "execution_count": 19,
   "id": "4c4be7eb-5055-4e3f-9250-b2ff9064e59f",
   "metadata": {},
   "outputs": [
    {
     "data": {
      "text/plain": [
       "matrix([[1, 2, 3, 4]])"
      ]
     },
     "execution_count": 19,
     "metadata": {},
     "output_type": "execute_result"
    }
   ],
   "source": [
    "m"
   ]
  },
  {
   "cell_type": "code",
   "execution_count": 21,
   "id": "fc730326-6f9f-4776-80a6-5a2765424fe1",
   "metadata": {},
   "outputs": [
    {
     "data": {
      "text/plain": [
       "numpy.matrix"
      ]
     },
     "execution_count": 21,
     "metadata": {},
     "output_type": "execute_result"
    }
   ],
   "source": [
    "type(m) #Type is matrix now"
   ]
  },
  {
   "cell_type": "code",
   "execution_count": 22,
   "id": "f3a46f06-9766-4de2-972d-bd3e858db1b9",
   "metadata": {},
   "outputs": [
    {
     "data": {
      "text/plain": [
       "matrix([[1, 2, 3, 4]])"
      ]
     },
     "execution_count": 22,
     "metadata": {},
     "output_type": "execute_result"
    }
   ],
   "source": [
    " #asasny array will not convert matrix into array whereas array will\n",
    "    \n",
    "np.asanyarray(m)"
   ]
  },
  {
   "cell_type": "code",
   "execution_count": 23,
   "id": "4036716d-e1d0-4cf2-9c56-b04331c6f4f7",
   "metadata": {},
   "outputs": [],
   "source": [
    "a = np.array(l)"
   ]
  },
  {
   "cell_type": "code",
   "execution_count": 24,
   "id": "88b68a97-c78e-4b36-ad41-593ccf22cd80",
   "metadata": {},
   "outputs": [
    {
     "data": {
      "text/plain": [
       "array([1, 2, 3, 4])"
      ]
     },
     "execution_count": 24,
     "metadata": {},
     "output_type": "execute_result"
    }
   ],
   "source": [
    "a"
   ]
  },
  {
   "cell_type": "code",
   "execution_count": 26,
   "id": "a02ff4e5-84a9-4c6d-9007-98c14dea9f49",
   "metadata": {},
   "outputs": [],
   "source": [
    "c = a"
   ]
  },
  {
   "cell_type": "code",
   "execution_count": 27,
   "id": "6283af71-05a3-43cc-9699-e54df94785f3",
   "metadata": {},
   "outputs": [],
   "source": [
    "c[0] = 111 #It will change both the c and a values #Swallow copy"
   ]
  },
  {
   "cell_type": "code",
   "execution_count": 28,
   "id": "2358a305-879a-4cf4-b391-f53656b65a5e",
   "metadata": {},
   "outputs": [
    {
     "data": {
      "text/plain": [
       "array([111,   2,   3,   4])"
      ]
     },
     "execution_count": 28,
     "metadata": {},
     "output_type": "execute_result"
    }
   ],
   "source": [
    "c"
   ]
  },
  {
   "cell_type": "code",
   "execution_count": 30,
   "id": "0c9e2e80-85e9-4093-8ff8-466f2626775f",
   "metadata": {},
   "outputs": [
    {
     "data": {
      "text/plain": [
       "array([111,   2,   3,   4])"
      ]
     },
     "execution_count": 30,
     "metadata": {},
     "output_type": "execute_result"
    }
   ],
   "source": [
    " #Here we can see changes are made in both the c and a\n",
    "a"
   ]
  },
  {
   "cell_type": "code",
   "execution_count": 32,
   "id": "6b2ce53f-d466-4e67-a966-3ca1c9947684",
   "metadata": {},
   "outputs": [],
   "source": [
    "#deep copy,changes made in a will not apply in d and vice versa\n",
    "\n",
    "d = np.copy(a) #d will allocate new space for data."
   ]
  },
  {
   "cell_type": "code",
   "execution_count": 33,
   "id": "7952af14-5322-4325-b382-54aa7fcea280",
   "metadata": {},
   "outputs": [
    {
     "data": {
      "text/plain": [
       "array([111,   2,   3,   4])"
      ]
     },
     "execution_count": 33,
     "metadata": {},
     "output_type": "execute_result"
    }
   ],
   "source": [
    "d "
   ]
  },
  {
   "cell_type": "code",
   "execution_count": 35,
   "id": "abd64b80-4576-478e-bf3b-75fabd820a13",
   "metadata": {},
   "outputs": [
    {
     "data": {
      "text/plain": [
       "(array([111,   2,   3,   4]), array([111,   2,   3,   4]))"
      ]
     },
     "execution_count": 35,
     "metadata": {},
     "output_type": "execute_result"
    }
   ],
   "source": [
    "a,d #Currenlty both are same as we have not made any change yet"
   ]
  },
  {
   "cell_type": "code",
   "execution_count": 36,
   "id": "63c6c585-d3fc-47ca-9164-e225756fbb79",
   "metadata": {},
   "outputs": [],
   "source": [
    "a[2] = 222"
   ]
  },
  {
   "cell_type": "code",
   "execution_count": 37,
   "id": "2fa662f9-a865-4970-8d4a-f040d135848c",
   "metadata": {},
   "outputs": [
    {
     "data": {
      "text/plain": [
       "array([111,   2,   3,   4])"
      ]
     },
     "execution_count": 37,
     "metadata": {},
     "output_type": "execute_result"
    }
   ],
   "source": [
    "d #As we can see no change is made in d"
   ]
  },
  {
   "cell_type": "code",
   "execution_count": 39,
   "id": "302ebd86-2b91-4ee8-aa49-a26e64ce9715",
   "metadata": {},
   "outputs": [
    {
     "data": {
      "text/plain": [
       "array([111,   2, 222,   4])"
      ]
     },
     "execution_count": 39,
     "metadata": {},
     "output_type": "execute_result"
    }
   ],
   "source": [
    "a #But change is made in a ,as it allocated seperate space for the a"
   ]
  },
  {
   "cell_type": "code",
   "execution_count": 40,
   "id": "9acbc398-7dbb-43f1-a494-74fc8088caae",
   "metadata": {},
   "outputs": [],
   "source": [
    "d[3] =  1060"
   ]
  },
  {
   "cell_type": "code",
   "execution_count": 41,
   "id": "7917a550-927c-4949-a762-08ee006b20da",
   "metadata": {},
   "outputs": [
    {
     "data": {
      "text/plain": [
       "array([111,   2, 222,   4])"
      ]
     },
     "execution_count": 41,
     "metadata": {},
     "output_type": "execute_result"
    }
   ],
   "source": [
    "\n",
    "a #Again no change happneded in a"
   ]
  },
  {
   "cell_type": "code",
   "execution_count": 43,
   "id": "ce253c1f-62c0-419e-95f7-3a530b70730c",
   "metadata": {},
   "outputs": [
    {
     "data": {
      "text/plain": [
       "array([ 111,    2,    3, 1060])"
      ]
     },
     "execution_count": 43,
     "metadata": {},
     "output_type": "execute_result"
    }
   ],
   "source": [
    "d #Change only happned in d"
   ]
  },
  {
   "cell_type": "code",
   "execution_count": null,
   "id": "c9387330-ed67-42dd-a7a2-fe0b12cc385d",
   "metadata": {},
   "outputs": [],
   "source": []
  }
 ],
 "metadata": {
  "kernelspec": {
   "display_name": "Python 3 (ipykernel)",
   "language": "python",
   "name": "python3"
  },
  "language_info": {
   "codemirror_mode": {
    "name": "ipython",
    "version": 3
   },
   "file_extension": ".py",
   "mimetype": "text/x-python",
   "name": "python",
   "nbconvert_exporter": "python",
   "pygments_lexer": "ipython3",
   "version": "3.10.8"
  }
 },
 "nbformat": 4,
 "nbformat_minor": 5
}
