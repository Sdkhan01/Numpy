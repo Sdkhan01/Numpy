{
 "cells": [
  {
   "cell_type": "code",
   "execution_count": 1,
   "id": "b3a886e6-f92e-48f8-af87-ebc85caafb04",
   "metadata": {},
   "outputs": [],
   "source": [
    "import numpy as np"
   ]
  },
  {
   "cell_type": "markdown",
   "id": "661da18d-6686-4346-84db-d1484baa9be4",
   "metadata": {},
   "source": [
    "Sort , Search and Counting function"
   ]
  },
  {
   "cell_type": "code",
   "execution_count": 3,
   "id": "4c12a5c5-7952-4cd0-9e88-4745018e4dc6",
   "metadata": {},
   "outputs": [],
   "source": [
    "arr = np.array([4,2,5,6,7,9,3,6,8,9,11,14,43])"
   ]
  },
  {
   "cell_type": "code",
   "execution_count": 4,
   "id": "da66919c-996c-487e-999f-ef4b7c93f4c6",
   "metadata": {},
   "outputs": [
    {
     "data": {
      "text/plain": [
       "array([ 4,  2,  5,  6,  7,  9,  3,  6,  8,  9, 11, 14, 43])"
      ]
     },
     "execution_count": 4,
     "metadata": {},
     "output_type": "execute_result"
    }
   ],
   "source": [
    "arr"
   ]
  },
  {
   "cell_type": "code",
   "execution_count": 5,
   "id": "c13b1919-a248-48e1-8bf8-7463acac2c19",
   "metadata": {},
   "outputs": [
    {
     "data": {
      "text/plain": [
       "array([ 2,  3,  4,  5,  6,  6,  7,  8,  9,  9, 11, 14, 43])"
      ]
     },
     "execution_count": 5,
     "metadata": {},
     "output_type": "execute_result"
    }
   ],
   "source": [
    "#Sorting the arrayy \n",
    "\n",
    "np.sort(arr)"
   ]
  },
  {
   "cell_type": "code",
   "execution_count": 9,
   "id": "3c2ee9e6-4fb2-4da2-9317-af6583f2ef3b",
   "metadata": {},
   "outputs": [
    {
     "data": {
      "text/plain": [
       "12"
      ]
     },
     "execution_count": 9,
     "metadata": {},
     "output_type": "execute_result"
    }
   ],
   "source": [
    "#Will tell on which index the entered element will be in sorted list or data\n",
    "np.searchsorted(arr,40)"
   ]
  },
  {
   "cell_type": "code",
   "execution_count": 10,
   "id": "7a98ecba-45f1-4691-a57c-c34dd0255b01",
   "metadata": {},
   "outputs": [
    {
     "data": {
      "text/plain": [
       "0"
      ]
     },
     "execution_count": 10,
     "metadata": {},
     "output_type": "execute_result"
    }
   ],
   "source": [
    "np.searchsorted(arr , 1)"
   ]
  },
  {
   "cell_type": "code",
   "execution_count": 11,
   "id": "e16e8493-b2f9-4e04-b94c-71ad1f0cf3cf",
   "metadata": {},
   "outputs": [],
   "source": [
    "#to find that how many data there are non zero\n",
    "\n",
    "\n",
    "arr1 = np.array([0.454,345,0,0,0,0,0])"
   ]
  },
  {
   "cell_type": "code",
   "execution_count": 12,
   "id": "ce3e3a9c-a272-444d-b7a6-ef45d04bd2a9",
   "metadata": {},
   "outputs": [
    {
     "data": {
      "text/plain": [
       "2"
      ]
     },
     "execution_count": 12,
     "metadata": {},
     "output_type": "execute_result"
    }
   ],
   "source": [
    "np.count_nonzero(arr1)"
   ]
  },
  {
   "cell_type": "code",
   "execution_count": 13,
   "id": "c21515fd-2e43-445e-b975-7345b469816d",
   "metadata": {},
   "outputs": [
    {
     "data": {
      "text/plain": [
       "array([ 4,  2,  5,  6,  7,  9,  3,  6,  8,  9, 11, 14, 43])"
      ]
     },
     "execution_count": 13,
     "metadata": {},
     "output_type": "execute_result"
    }
   ],
   "source": [
    "arr"
   ]
  },
  {
   "cell_type": "code",
   "execution_count": 14,
   "id": "908f86f5-1417-4a35-972f-b8e4d6c76d7d",
   "metadata": {},
   "outputs": [
    {
     "data": {
      "text/plain": [
       "(array([ 4,  5,  8,  9, 10, 11, 12]),)"
      ]
     },
     "execution_count": 14,
     "metadata": {},
     "output_type": "execute_result"
    }
   ],
   "source": [
    "#Find out which data is more than six and whats its index using where clause\n",
    "#data here is unsorted\n",
    "\n",
    "np.where(arr>6)"
   ]
  },
  {
   "cell_type": "code",
   "execution_count": 15,
   "id": "deb8c237-6a1e-45c3-89ee-97e95ec4a9a2",
   "metadata": {},
   "outputs": [
    {
     "data": {
      "text/plain": [
       "array([ 7,  9,  8,  9, 11, 14, 43])"
      ]
     },
     "execution_count": 15,
     "metadata": {},
     "output_type": "execute_result"
    }
   ],
   "source": [
    "#Extract data which is greater than the six\n",
    "#this will in sorted form\n",
    "\n",
    "np.extract(arr > 6, arr)"
   ]
  },
  {
   "cell_type": "code",
   "execution_count": 16,
   "id": "367a1608-12d2-4948-bda6-40c9dd6e098d",
   "metadata": {},
   "outputs": [
    {
     "data": {
      "text/plain": [
       "array([ 288230376151711744,  144115188075855872,  360287970189639680,\n",
       "        432345564227567616,  504403158265495552,  648518346341351424,\n",
       "        216172782113783808,  432345564227567616,  576460752303423488,\n",
       "        648518346341351424,  792633534417207296, 1008806316530991104,\n",
       "       3098476543630901248])"
      ]
     },
     "execution_count": 16,
     "metadata": {},
     "output_type": "execute_result"
    }
   ],
   "source": [
    "#It will convert the data into bytes\n",
    "arr.byteswap()"
   ]
  },
  {
   "cell_type": "code",
   "execution_count": 18,
   "id": "dbaac920-2752-408e-a757-cc84de88e747",
   "metadata": {},
   "outputs": [],
   "source": [
    "#Numpy - Copies and Views"
   ]
  },
  {
   "cell_type": "code",
   "execution_count": 19,
   "id": "057996c2-7354-4cad-a308-4bbaa0dfef55",
   "metadata": {},
   "outputs": [
    {
     "data": {
      "text/plain": [
       "array([ 4,  2,  5,  6,  7,  9,  3,  6,  8,  9, 11, 14, 43])"
      ]
     },
     "execution_count": 19,
     "metadata": {},
     "output_type": "execute_result"
    }
   ],
   "source": [
    "arr"
   ]
  },
  {
   "cell_type": "code",
   "execution_count": 20,
   "id": "06cb51dd-5d2c-4524-80ca-2a92bfb47ad6",
   "metadata": {},
   "outputs": [],
   "source": [
    "#Deep copy\n",
    "#Here ,changes made in a will not apply on arr and vice versa\n",
    "#It creates another space \n",
    "a = np.copy(arr)"
   ]
  },
  {
   "cell_type": "code",
   "execution_count": 21,
   "id": "f9aba6b4-fd43-47d9-b575-7a0d53f5a35c",
   "metadata": {},
   "outputs": [],
   "source": [
    "a[1] = 9"
   ]
  },
  {
   "cell_type": "code",
   "execution_count": 22,
   "id": "b21f2f66-1a20-49e8-8e3b-6e6682fe62b7",
   "metadata": {},
   "outputs": [
    {
     "data": {
      "text/plain": [
       "array([ 4,  9,  5,  6,  7,  9,  3,  6,  8,  9, 11, 14, 43])"
      ]
     },
     "execution_count": 22,
     "metadata": {},
     "output_type": "execute_result"
    }
   ],
   "source": [
    "a"
   ]
  },
  {
   "cell_type": "code",
   "execution_count": 24,
   "id": "b41b6681-b7e3-449b-a87e-a86d74d84efa",
   "metadata": {},
   "outputs": [
    {
     "data": {
      "text/plain": [
       "array([ 4,  2,  5,  6,  7,  9,  3,  6,  8,  9, 11, 14, 43])"
      ]
     },
     "execution_count": 24,
     "metadata": {},
     "output_type": "execute_result"
    }
   ],
   "source": [
    "#arr remains same after replacing the index 1 value in a\n",
    "arr\n"
   ]
  },
  {
   "cell_type": "code",
   "execution_count": null,
   "id": "1ad8b502-a5ba-436b-a4c5-b03efeea262b",
   "metadata": {},
   "outputs": [],
   "source": []
  },
  {
   "cell_type": "code",
   "execution_count": 25,
   "id": "6466727a-6a86-4823-a628-690dc9335afe",
   "metadata": {},
   "outputs": [],
   "source": [
    "#Swallow copy using views\n",
    "#changes will apply on both the b and arr\n",
    "b = arr.view()"
   ]
  },
  {
   "cell_type": "code",
   "execution_count": 26,
   "id": "9fe6f950-beb7-41ed-ad98-a619f32d2fd8",
   "metadata": {},
   "outputs": [
    {
     "data": {
      "text/plain": [
       "array([ 4,  2,  5,  6,  7,  9,  3,  6,  8,  9, 11, 14, 43])"
      ]
     },
     "execution_count": 26,
     "metadata": {},
     "output_type": "execute_result"
    }
   ],
   "source": [
    "b"
   ]
  },
  {
   "cell_type": "code",
   "execution_count": 27,
   "id": "60e149ab-9d35-4fab-8144-26ce1f3fa51c",
   "metadata": {},
   "outputs": [
    {
     "data": {
      "text/plain": [
       "array([ 4,  2,  5,  6,  7,  9,  3,  6,  8,  9, 11, 14, 43])"
      ]
     },
     "execution_count": 27,
     "metadata": {},
     "output_type": "execute_result"
    }
   ],
   "source": [
    "arr"
   ]
  },
  {
   "cell_type": "code",
   "execution_count": 28,
   "id": "88058748-7822-42fb-a99d-39ff53e281e7",
   "metadata": {},
   "outputs": [],
   "source": [
    "b[1] = 21"
   ]
  },
  {
   "cell_type": "code",
   "execution_count": 29,
   "id": "248fbc26-da56-4f9a-a408-f8f2469ddcfa",
   "metadata": {},
   "outputs": [
    {
     "data": {
      "text/plain": [
       "array([ 4, 21,  5,  6,  7,  9,  3,  6,  8,  9, 11, 14, 43])"
      ]
     },
     "execution_count": 29,
     "metadata": {},
     "output_type": "execute_result"
    }
   ],
   "source": [
    "b"
   ]
  },
  {
   "cell_type": "code",
   "execution_count": 30,
   "id": "cd896412-cd6d-4acf-91c4-21d5a36df977",
   "metadata": {},
   "outputs": [
    {
     "data": {
      "text/plain": [
       "array([ 4, 21,  5,  6,  7,  9,  3,  6,  8,  9, 11, 14, 43])"
      ]
     },
     "execution_count": 30,
     "metadata": {},
     "output_type": "execute_result"
    }
   ],
   "source": [
    "arr"
   ]
  },
  {
   "cell_type": "code",
   "execution_count": null,
   "id": "10d06eba-a45c-4617-9124-ba0b01bf8421",
   "metadata": {},
   "outputs": [],
   "source": []
  },
  {
   "cell_type": "code",
   "execution_count": 31,
   "id": "6222faff-5d33-4534-8ad7-2b3e99e3b9f2",
   "metadata": {},
   "outputs": [],
   "source": [
    "#Numpy : Matrix Librare"
   ]
  },
  {
   "cell_type": "code",
   "execution_count": 32,
   "id": "b43490e6-307c-426c-8205-0bf51200b17b",
   "metadata": {},
   "outputs": [],
   "source": [
    "import numpy.matlib as nm"
   ]
  },
  {
   "cell_type": "raw",
   "id": "1c7e8a04-8606-4d4c-8f83-c7528bb91662",
   "metadata": {},
   "source": [
    "It will create the matrix and if its matric than for sure its dimension will be atleast 2d"
   ]
  },
  {
   "cell_type": "code",
   "execution_count": 44,
   "id": "e9603ef9-37cf-4561-9f9a-dfa770c122c2",
   "metadata": {},
   "outputs": [],
   "source": [
    "\n",
    "p = nm.zeros(6)"
   ]
  },
  {
   "cell_type": "code",
   "execution_count": 45,
   "id": "7e9e7bf1-ef02-4fc2-bef9-71984aefd010",
   "metadata": {},
   "outputs": [
    {
     "data": {
      "text/plain": [
       "matrix([[0., 0., 0., 0., 0., 0.]])"
      ]
     },
     "execution_count": 45,
     "metadata": {},
     "output_type": "execute_result"
    }
   ],
   "source": [
    "p"
   ]
  },
  {
   "cell_type": "code",
   "execution_count": 47,
   "id": "64509ae0-cf84-4731-b15e-869204ccba58",
   "metadata": {},
   "outputs": [
    {
     "data": {
      "text/plain": [
       "matrix([[0., 0.],\n",
       "        [0., 0.],\n",
       "        [0., 0.]])"
      ]
     },
     "execution_count": 47,
     "metadata": {},
     "output_type": "execute_result"
    }
   ],
   "source": [
    "#reshaping the matrix \n",
    "\n",
    "p.reshape(3,2)"
   ]
  },
  {
   "cell_type": "code",
   "execution_count": 48,
   "id": "694b0764-f72a-4117-b16e-fe376e2eedec",
   "metadata": {},
   "outputs": [
    {
     "data": {
      "text/plain": [
       "numpy.matrix"
      ]
     },
     "execution_count": 48,
     "metadata": {},
     "output_type": "execute_result"
    }
   ],
   "source": [
    "type(p)"
   ]
  },
  {
   "cell_type": "code",
   "execution_count": 49,
   "id": "a6b8218d-b15e-4097-b273-2f8822d8816a",
   "metadata": {},
   "outputs": [
    {
     "data": {
      "text/plain": [
       "dtype('float64')"
      ]
     },
     "execution_count": 49,
     "metadata": {},
     "output_type": "execute_result"
    }
   ],
   "source": [
    "p.dtype"
   ]
  },
  {
   "cell_type": "code",
   "execution_count": 50,
   "id": "5619480e-9002-4779-9325-33e16b6c86be",
   "metadata": {},
   "outputs": [
    {
     "data": {
      "text/plain": [
       "matrix([[1., 1., 1., 1., 1., 1.]])"
      ]
     },
     "execution_count": 50,
     "metadata": {},
     "output_type": "execute_result"
    }
   ],
   "source": [
    "#Create matrix of ones (1)\n",
    "nm.ones(6)"
   ]
  },
  {
   "cell_type": "code",
   "execution_count": 52,
   "id": "5d68c324-0668-4fd6-ba28-8710c921d2da",
   "metadata": {},
   "outputs": [
    {
     "data": {
      "text/plain": [
       "matrix([[1., 1., 1., 1.],\n",
       "        [1., 1., 1., 1.],\n",
       "        [1., 1., 1., 1.]])"
      ]
     },
     "execution_count": 52,
     "metadata": {},
     "output_type": "execute_result"
    }
   ],
   "source": [
    "nm.ones((3,4))"
   ]
  },
  {
   "cell_type": "code",
   "execution_count": 54,
   "id": "ad627823-ea8a-4e3d-8900-5d5fe80b8737",
   "metadata": {},
   "outputs": [
    {
     "data": {
      "text/plain": [
       "array([[1., 0., 0., 0., 0.],\n",
       "       [0., 1., 0., 0., 0.],\n",
       "       [0., 0., 1., 0., 0.],\n",
       "       [0., 0., 0., 1., 0.],\n",
       "       [0., 0., 0., 0., 1.]])"
      ]
     },
     "execution_count": 54,
     "metadata": {},
     "output_type": "execute_result"
    }
   ],
   "source": [
    "#creating 5x5 identity matrix\n",
    "np.eye(5)"
   ]
  },
  {
   "cell_type": "code",
   "execution_count": null,
   "id": "faabfd63-b02a-4bb6-808b-c6d3705ebaf8",
   "metadata": {},
   "outputs": [],
   "source": []
  },
  {
   "cell_type": "code",
   "execution_count": 56,
   "id": "6366fd3e-2216-4367-ab7a-636e58b685c8",
   "metadata": {},
   "outputs": [],
   "source": [
    "#Numpy : Linear algebra\n"
   ]
  },
  {
   "cell_type": "code",
   "execution_count": 103,
   "id": "9ed43cab-61eb-4100-8e90-b96128ece82d",
   "metadata": {},
   "outputs": [],
   "source": [
    "arr1 = np.random.randint([[3,5], [4,3]]) #Here 3,5 representing first row nd 4,3 representing 2nd row\n",
    "arr2 = np.random.randint([[5,3] , [2,5]])"
   ]
  },
  {
   "cell_type": "code",
   "execution_count": 104,
   "id": "feefbc02-0498-4dc3-a628-fb05c23de6e5",
   "metadata": {},
   "outputs": [
    {
     "data": {
      "text/plain": [
       "array([[1, 2],\n",
       "       [3, 2]])"
      ]
     },
     "execution_count": 104,
     "metadata": {},
     "output_type": "execute_result"
    }
   ],
   "source": [
    "arr1"
   ]
  },
  {
   "cell_type": "code",
   "execution_count": 105,
   "id": "33c7a238-3095-47b4-a21c-63d07f50a082",
   "metadata": {},
   "outputs": [
    {
     "data": {
      "text/plain": [
       "array([[0, 1],\n",
       "       [1, 1]])"
      ]
     },
     "execution_count": 105,
     "metadata": {},
     "output_type": "execute_result"
    }
   ],
   "source": [
    "arr2"
   ]
  },
  {
   "cell_type": "code",
   "execution_count": 106,
   "id": "6d35dffa-9eec-437c-893a-30a2375f026c",
   "metadata": {},
   "outputs": [
    {
     "data": {
      "text/plain": [
       "array([[2, 3],\n",
       "       [2, 5]])"
      ]
     },
     "execution_count": 106,
     "metadata": {},
     "output_type": "execute_result"
    }
   ],
   "source": [
    "#Doing matrix multiplication by .dot function\n",
    "\n",
    "np.dot(arr1 , arr2)"
   ]
  },
  {
   "cell_type": "code",
   "execution_count": 107,
   "id": "21980534-5e5e-434a-a19d-a8b444ebd582",
   "metadata": {},
   "outputs": [
    {
     "data": {
      "text/plain": [
       "array([[2, 3],\n",
       "       [2, 5]])"
      ]
     },
     "execution_count": 107,
     "metadata": {},
     "output_type": "execute_result"
    }
   ],
   "source": [
    "#doing matrix multipllication using @ function\n",
    "arr1 @ arr2"
   ]
  },
  {
   "cell_type": "code",
   "execution_count": null,
   "id": "4494664f-c365-4d88-9abb-37c9c0ed8517",
   "metadata": {},
   "outputs": [],
   "source": []
  }
 ],
 "metadata": {
  "kernelspec": {
   "display_name": "Python 3 (ipykernel)",
   "language": "python",
   "name": "python3"
  },
  "language_info": {
   "codemirror_mode": {
    "name": "ipython",
    "version": 3
   },
   "file_extension": ".py",
   "mimetype": "text/x-python",
   "name": "python",
   "nbconvert_exporter": "python",
   "pygments_lexer": "ipython3",
   "version": "3.10.8"
  }
 },
 "nbformat": 4,
 "nbformat_minor": 5
}
