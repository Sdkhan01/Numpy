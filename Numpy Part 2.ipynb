{
 "cells": [
  {
   "cell_type": "code",
   "execution_count": 1,
   "id": "1e38d7eb-5ef2-40c5-be6c-180a3f8a2913",
   "metadata": {},
   "outputs": [],
   "source": [
    "import numpy as np"
   ]
  },
  {
   "cell_type": "markdown",
   "id": "2e564e77-b014-4150-ac4a-ffff1745d647",
   "metadata": {},
   "source": [
    "We are goin to study about the different functions of the numpy."
   ]
  },
  {
   "cell_type": "code",
   "execution_count": 2,
   "id": "664a7450-79d3-4514-9faa-65f29fe4de0f",
   "metadata": {},
   "outputs": [
    {
     "data": {
      "text/plain": [
       "array([[ True, False, False],\n",
       "       [False,  True, False],\n",
       "       [False, False,  True]])"
      ]
     },
     "execution_count": 2,
     "metadata": {},
     "output_type": "execute_result"
    }
   ],
   "source": [
    "#here it will return True when i==j and will create 3x3 matrix\n",
    "\n",
    "np.fromfunction(lambda i , j : i == j,(3,3))"
   ]
  },
  {
   "cell_type": "code",
   "execution_count": 3,
   "id": "5bfa69f3-d82e-4257-b538-d4d6ea6b0ab3",
   "metadata": {},
   "outputs": [
    {
     "data": {
      "text/plain": [
       "array([[0., 0., 0.],\n",
       "       [0., 1., 2.],\n",
       "       [0., 2., 4.]])"
      ]
     },
     "execution_count": 3,
     "metadata": {},
     "output_type": "execute_result"
    }
   ],
   "source": [
    "#Now performing the multiplication operation of matrix using from funciton\n",
    "\n",
    "np.fromfunction(lambda i,j : i*j, (3,3))"
   ]
  },
  {
   "cell_type": "code",
   "execution_count": 4,
   "id": "513fb974-9ec1-4c4f-b8d0-ffe8b3808a87",
   "metadata": {},
   "outputs": [],
   "source": [
    "#using iter function \n",
    "\n",
    "iterable = (i**2 for i in range (5))"
   ]
  },
  {
   "cell_type": "code",
   "execution_count": 5,
   "id": "61309e20-8eee-49b4-bafa-72a39e50de35",
   "metadata": {},
   "outputs": [
    {
     "data": {
      "text/plain": [
       "array([ 0.,  1.,  4.,  9., 16.])"
      ]
     },
     "execution_count": 5,
     "metadata": {},
     "output_type": "execute_result"
    }
   ],
   "source": [
    "np.fromiter(iterable, float)"
   ]
  },
  {
   "cell_type": "code",
   "execution_count": 6,
   "id": "372b1569-dcd7-4b53-94a1-a3f5d860b532",
   "metadata": {},
   "outputs": [
    {
     "data": {
      "text/plain": [
       "array([1122.,  456.])"
      ]
     },
     "execution_count": 6,
     "metadata": {},
     "output_type": "execute_result"
    }
   ],
   "source": [
    "#It will seperate  string from the- Sep = \" 'given value'\"\n",
    "np.fromstring('1122@456', sep = '@')"
   ]
  },
  {
   "cell_type": "code",
   "execution_count": 7,
   "id": "34ecd05f-1daf-4438-91f2-a1018f528daf",
   "metadata": {},
   "outputs": [
    {
     "data": {
      "text/plain": [
       "array([4., 5., 6., 7., 8.])"
      ]
     },
     "execution_count": 7,
     "metadata": {},
     "output_type": "execute_result"
    }
   ],
   "source": [
    "np.fromstring('4,5,6,7,8', sep = ',')"
   ]
  },
  {
   "cell_type": "markdown",
   "id": "15e6e7c3-5f7d-4d33-9046-903ee1d423f1",
   "metadata": {},
   "source": [
    "Numpy data Type : "
   ]
  },
  {
   "cell_type": "code",
   "execution_count": 8,
   "id": "72820532-65b7-4629-9833-ff60a851d806",
   "metadata": {},
   "outputs": [],
   "source": [
    "l = [1,2,3,4]"
   ]
  },
  {
   "cell_type": "code",
   "execution_count": 9,
   "id": "becc8ec0-4fa5-4d30-89d1-d44306b8eba1",
   "metadata": {},
   "outputs": [],
   "source": [
    "ar = np.array(l)"
   ]
  },
  {
   "cell_type": "code",
   "execution_count": 10,
   "id": "eece5fca-63ff-498c-addb-d1e9ab95a43b",
   "metadata": {},
   "outputs": [
    {
     "data": {
      "text/plain": [
       "array([1, 2, 3, 4])"
      ]
     },
     "execution_count": 10,
     "metadata": {},
     "output_type": "execute_result"
    }
   ],
   "source": [
    "ar"
   ]
  },
  {
   "cell_type": "markdown",
   "id": "325d9289-b813-4a4b-9a9c-ffb92fb4b061",
   "metadata": {},
   "source": [
    "ndim : to find the dimension of the array"
   ]
  },
  {
   "cell_type": "code",
   "execution_count": 11,
   "id": "14d8e555-3571-43d7-a930-ba37b8bd9bda",
   "metadata": {},
   "outputs": [
    {
     "data": {
      "text/plain": [
       "1"
      ]
     },
     "execution_count": 11,
     "metadata": {},
     "output_type": "execute_result"
    }
   ],
   "source": [
    "\n",
    "ar.ndim"
   ]
  },
  {
   "cell_type": "code",
   "execution_count": 12,
   "id": "484363b6-f429-4e3a-8a31-7d9c77f416d8",
   "metadata": {},
   "outputs": [],
   "source": [
    "#Creating a 2d array\n",
    "\n",
    "ar2 = np.array([[2,3,4] , [3,4,5]])"
   ]
  },
  {
   "cell_type": "code",
   "execution_count": 13,
   "id": "39c59c11-046e-4072-936f-a0770624abb4",
   "metadata": {},
   "outputs": [
    {
     "data": {
      "text/plain": [
       "2"
      ]
     },
     "execution_count": 13,
     "metadata": {},
     "output_type": "execute_result"
    }
   ],
   "source": [
    "ar2.ndim #We can see this is 2 dimensional array"
   ]
  },
  {
   "cell_type": "code",
   "execution_count": 14,
   "id": "e09d846c-1210-4b82-ad28-f51ba08c411a",
   "metadata": {},
   "outputs": [
    {
     "data": {
      "text/plain": [
       "4"
      ]
     },
     "execution_count": 14,
     "metadata": {},
     "output_type": "execute_result"
    }
   ],
   "source": [
    "#To check the size or number of the element in the array \n",
    "\n",
    "ar.size"
   ]
  },
  {
   "cell_type": "code",
   "execution_count": 15,
   "id": "0e4e19b5-a0f5-48e4-a67d-a9e00d25e5bb",
   "metadata": {},
   "outputs": [
    {
     "data": {
      "text/plain": [
       "6"
      ]
     },
     "execution_count": 15,
     "metadata": {},
     "output_type": "execute_result"
    }
   ],
   "source": [
    "ar2.size"
   ]
  },
  {
   "cell_type": "code",
   "execution_count": 16,
   "id": "d113629d-25e8-4ee7-af48-d85f84207360",
   "metadata": {},
   "outputs": [
    {
     "data": {
      "text/plain": [
       "(4,)"
      ]
     },
     "execution_count": 16,
     "metadata": {},
     "output_type": "execute_result"
    }
   ],
   "source": [
    "#To check the size of the array\n",
    "ar.shape"
   ]
  },
  {
   "cell_type": "code",
   "execution_count": 17,
   "id": "8a137578-d8a6-403e-8d6a-95e2ec77a7e0",
   "metadata": {},
   "outputs": [
    {
     "data": {
      "text/plain": [
       "(2, 3)"
      ]
     },
     "execution_count": 17,
     "metadata": {},
     "output_type": "execute_result"
    }
   ],
   "source": [
    "\n",
    "ar2.shape #Here output 2 denotes the row and 3 denotes the column"
   ]
  },
  {
   "cell_type": "code",
   "execution_count": 18,
   "id": "db164db6-43f7-457b-b43b-79c307d962dc",
   "metadata": {},
   "outputs": [
    {
     "data": {
      "text/plain": [
       "dtype('int64')"
      ]
     },
     "execution_count": 18,
     "metadata": {},
     "output_type": "execute_result"
    }
   ],
   "source": [
    "ar2.dtype"
   ]
  },
  {
   "cell_type": "code",
   "execution_count": 19,
   "id": "18b22a2f-6eba-444f-be2f-a735e5f797f3",
   "metadata": {},
   "outputs": [],
   "source": [
    "ar22 =  np.array([[1,4,2.5,44], (2,12,34,67)])"
   ]
  },
  {
   "cell_type": "code",
   "execution_count": 20,
   "id": "e866ed18-fd36-4901-af3b-12605849ebb8",
   "metadata": {},
   "outputs": [
    {
     "data": {
      "text/plain": [
       "array([[ 1. ,  4. ,  2.5, 44. ],\n",
       "       [ 2. , 12. , 34. , 67. ]])"
      ]
     },
     "execution_count": 20,
     "metadata": {},
     "output_type": "execute_result"
    }
   ],
   "source": [
    "ar22"
   ]
  },
  {
   "cell_type": "code",
   "execution_count": 21,
   "id": "3da0f966-1f75-4bf8-8a18-4dd5adeb2d47",
   "metadata": {},
   "outputs": [
    {
     "data": {
      "text/plain": [
       "dtype('float64')"
      ]
     },
     "execution_count": 21,
     "metadata": {},
     "output_type": "execute_result"
    }
   ],
   "source": [
    "ar22.dtype \n",
    "\n",
    "#Float number will make space for all the in values and alll will be turn into the float"
   ]
  },
  {
   "cell_type": "markdown",
   "id": "10ee0e4b-c5e3-4384-8758-327548b92c69",
   "metadata": {},
   "source": [
    "Range function and arrange function :\n",
    "\n",
    "Arange function : Its same like range function but it also take decimanl values and can also jump in decimal values which is not possible using range function "
   ]
  },
  {
   "cell_type": "code",
   "execution_count": 22,
   "id": "8e7f6506-055f-4b7d-a89b-7456e1aeb175",
   "metadata": {},
   "outputs": [
    {
     "data": {
      "text/plain": [
       "[0, 1, 2, 3, 4]"
      ]
     },
     "execution_count": 22,
     "metadata": {},
     "output_type": "execute_result"
    }
   ],
   "source": [
    "list(range(0,5))"
   ]
  },
  {
   "cell_type": "code",
   "execution_count": 23,
   "id": "0caef956-54fc-4ea3-90c0-ecc0d669be53",
   "metadata": {},
   "outputs": [],
   "source": [
    "ag = np.arange(2.4, 5.8, .2)"
   ]
  },
  {
   "cell_type": "code",
   "execution_count": 24,
   "id": "5fef17cc-bdba-41f1-a8f1-5cc8a3bb9259",
   "metadata": {},
   "outputs": [
    {
     "data": {
      "text/plain": [
       "array([2.4, 2.6, 2.8, 3. , 3.2, 3.4, 3.6, 3.8, 4. , 4.2, 4.4, 4.6, 4.8,\n",
       "       5. , 5.2, 5.4, 5.6])"
      ]
     },
     "execution_count": 24,
     "metadata": {},
     "output_type": "execute_result"
    }
   ],
   "source": [
    "ag"
   ]
  },
  {
   "cell_type": "code",
   "execution_count": 25,
   "id": "0df8764f-1bef-4401-b1f4-8a8d5ad4d625",
   "metadata": {},
   "outputs": [
    {
     "data": {
      "text/plain": [
       "[2.4,\n",
       " 2.6,\n",
       " 2.8000000000000003,\n",
       " 3.0000000000000004,\n",
       " 3.2000000000000006,\n",
       " 3.400000000000001,\n",
       " 3.600000000000001,\n",
       " 3.800000000000001,\n",
       " 4.000000000000002,\n",
       " 4.200000000000001,\n",
       " 4.400000000000002,\n",
       " 4.600000000000001,\n",
       " 4.8000000000000025,\n",
       " 5.000000000000002,\n",
       " 5.200000000000003,\n",
       " 5.400000000000002,\n",
       " 5.600000000000003]"
      ]
     },
     "execution_count": 25,
     "metadata": {},
     "output_type": "execute_result"
    }
   ],
   "source": [
    "list(ag) #Converting it into list "
   ]
  },
  {
   "cell_type": "code",
   "execution_count": 26,
   "id": "c264cdb9-dc08-4b08-9db8-830dac081322",
   "metadata": {},
   "outputs": [
    {
     "data": {
      "text/plain": [
       "array([1.        , 1.44444444, 1.88888889, 2.33333333, 2.77777778,\n",
       "       3.22222222, 3.66666667, 4.11111111, 4.55555556, 5.        ])"
      ]
     },
     "execution_count": 26,
     "metadata": {},
     "output_type": "execute_result"
    }
   ],
   "source": [
    "#using linspace function \n",
    "\n",
    "np.linspace(1,5,10)\n",
    "#it wil divide 1 to 5 into 10 equal part and then return all the values"
   ]
  },
  {
   "cell_type": "code",
   "execution_count": 27,
   "id": "d432d43f-3b4d-4630-b9a6-1058dedc1ce3",
   "metadata": {},
   "outputs": [
    {
     "data": {
      "text/plain": [
       "array([  0.        ,  33.33333333,  66.66666667, 100.        ])"
      ]
     },
     "execution_count": 27,
     "metadata": {},
     "output_type": "execute_result"
    }
   ],
   "source": [
    "np.linspace(0,100,4)"
   ]
  },
  {
   "cell_type": "code",
   "execution_count": 28,
   "id": "1f018f88-e754-45a0-af9d-8d60a820bdac",
   "metadata": {},
   "outputs": [
    {
     "data": {
      "text/plain": [
       "array([0., 0., 0., 0., 0.])"
      ]
     },
     "execution_count": 28,
     "metadata": {},
     "output_type": "execute_result"
    }
   ],
   "source": [
    "np.zeros(5)"
   ]
  },
  {
   "cell_type": "code",
   "execution_count": 29,
   "id": "fc90c427-8c90-4fc1-9631-871eca6cbdfb",
   "metadata": {},
   "outputs": [
    {
     "data": {
      "text/plain": [
       "array([[0., 0., 0., 0.],\n",
       "       [0., 0., 0., 0.],\n",
       "       [0., 0., 0., 0.]])"
      ]
     },
     "execution_count": 29,
     "metadata": {},
     "output_type": "execute_result"
    }
   ],
   "source": [
    "np.zeros((3,4)) #Will make 3*4 matrix of 0"
   ]
  },
  {
   "cell_type": "code",
   "execution_count": 30,
   "id": "97083e43-248e-4075-9313-626a4de42922",
   "metadata": {},
   "outputs": [],
   "source": [
    "ar3 = np.zeros((3,4,2)) #3 matrix of 4,2"
   ]
  },
  {
   "cell_type": "code",
   "execution_count": 31,
   "id": "e19edc42-d08b-41eb-83b3-a52dd9348419",
   "metadata": {},
   "outputs": [
    {
     "data": {
      "text/plain": [
       "array([[[0., 0.],\n",
       "        [0., 0.],\n",
       "        [0., 0.],\n",
       "        [0., 0.]],\n",
       "\n",
       "       [[0., 0.],\n",
       "        [0., 0.],\n",
       "        [0., 0.],\n",
       "        [0., 0.]],\n",
       "\n",
       "       [[0., 0.],\n",
       "        [0., 0.],\n",
       "        [0., 0.],\n",
       "        [0., 0.]]])"
      ]
     },
     "execution_count": 31,
     "metadata": {},
     "output_type": "execute_result"
    }
   ],
   "source": [
    "ar3\n",
    "\n"
   ]
  },
  {
   "cell_type": "code",
   "execution_count": 32,
   "id": "22c869b8-6d57-462b-8fa7-37add33b96ca",
   "metadata": {},
   "outputs": [
    {
     "data": {
      "text/plain": [
       "array([1., 1., 1., 1.])"
      ]
     },
     "execution_count": 32,
     "metadata": {},
     "output_type": "execute_result"
    }
   ],
   "source": [
    "#np.ones() function return 1 instead of 0,reamin same like zeros functiuon \n",
    "\n",
    "np.ones(4)"
   ]
  },
  {
   "cell_type": "code",
   "execution_count": 33,
   "id": "c086bcc5-5b1e-407a-b3eb-d1372061235a",
   "metadata": {},
   "outputs": [
    {
     "data": {
      "text/plain": [
       "array([[1., 1., 1., 1.],\n",
       "       [1., 1., 1., 1.],\n",
       "       [1., 1., 1., 1.]])"
      ]
     },
     "execution_count": 33,
     "metadata": {},
     "output_type": "execute_result"
    }
   ],
   "source": [
    "np.ones((3,4))"
   ]
  },
  {
   "cell_type": "code",
   "execution_count": 35,
   "id": "5b71d617-bfc9-47e0-b2ca-9e0b6f181b0c",
   "metadata": {},
   "outputs": [],
   "source": [
    "op = np.ones((3,4,4))"
   ]
  },
  {
   "cell_type": "code",
   "execution_count": 37,
   "id": "f67802b1-c606-4e65-94af-02360f25e08e",
   "metadata": {},
   "outputs": [
    {
     "data": {
      "text/plain": [
       "array([[[3., 3., 3., 3.],\n",
       "        [3., 3., 3., 3.],\n",
       "        [3., 3., 3., 3.],\n",
       "        [3., 3., 3., 3.]],\n",
       "\n",
       "       [[3., 3., 3., 3.],\n",
       "        [3., 3., 3., 3.],\n",
       "        [3., 3., 3., 3.],\n",
       "        [3., 3., 3., 3.]],\n",
       "\n",
       "       [[3., 3., 3., 3.],\n",
       "        [3., 3., 3., 3.],\n",
       "        [3., 3., 3., 3.],\n",
       "        [3., 3., 3., 3.]]])"
      ]
     },
     "execution_count": 37,
     "metadata": {},
     "output_type": "execute_result"
    }
   ],
   "source": [
    "op +2  #will ad 2 in every values\n",
    "\n",
    "#Can also add the decimanl numbers"
   ]
  },
  {
   "cell_type": "code",
   "execution_count": 38,
   "id": "ab65b7a5-d2c5-4df8-aab5-2efe8a4b425d",
   "metadata": {},
   "outputs": [
    {
     "data": {
      "text/plain": [
       "array([[[1., 1., 1., 1.],\n",
       "        [1., 1., 1., 1.],\n",
       "        [1., 1., 1., 1.],\n",
       "        [1., 1., 1., 1.]],\n",
       "\n",
       "       [[1., 1., 1., 1.],\n",
       "        [1., 1., 1., 1.],\n",
       "        [1., 1., 1., 1.],\n",
       "        [1., 1., 1., 1.]],\n",
       "\n",
       "       [[1., 1., 1., 1.],\n",
       "        [1., 1., 1., 1.],\n",
       "        [1., 1., 1., 1.],\n",
       "        [1., 1., 1., 1.]]])"
      ]
     },
     "execution_count": 38,
     "metadata": {},
     "output_type": "execute_result"
    }
   ],
   "source": [
    "\n",
    "op"
   ]
  },
  {
   "cell_type": "code",
   "execution_count": 39,
   "id": "908d2e2f-efad-4ad1-a3dd-dc3de23e0949",
   "metadata": {},
   "outputs": [
    {
     "data": {
      "text/plain": [
       "array([[[ 4.65400214e-310,  0.00000000e+000,  6.90486178e-310,\n",
       "          7.45584579e+184,  6.90486178e-310],\n",
       "        [ 6.90486178e-310,  3.89986767e+004,  6.90486178e-310,\n",
       "          6.90486192e-310,  7.46440351e-200],\n",
       "        [ 6.90486178e-310,  6.90486189e-310,  2.65101876e+089,\n",
       "          6.90486178e-310,  6.90486178e-310]],\n",
       "\n",
       "       [[ 1.66609087e-158,  6.90486191e-310,  6.90486194e-310,\n",
       "         -7.77929461e+137,  6.90486178e-310],\n",
       "        [ 4.65341413e-310,  5.61217478e+274,  6.90486360e-310,\n",
       "          6.90486178e-310, -1.51089875e+306],\n",
       "        [ 6.90486178e-310,  6.90486178e-310, -1.52628334e+143,\n",
       "          6.90486178e-310,  6.90486178e-310]],\n",
       "\n",
       "       [[ 4.36174304e+039,  6.90486192e-310,  6.90486178e-310,\n",
       "          2.88491846e-278,  6.90486178e-310],\n",
       "        [ 6.90486178e-310,  9.75343640e-249,  6.90486261e-310,\n",
       "          6.90486178e-310, -4.21068133e+090],\n",
       "        [ 6.90486178e-310,  6.90486178e-310,  2.14829574e-265,\n",
       "          6.90486178e-310,  2.45056560e-321]]])"
      ]
     },
     "execution_count": 39,
     "metadata": {},
     "output_type": "execute_result"
    }
   ],
   "source": [
    "#np.empty matrix is used to create an empty matrix\n",
    "\n",
    "np.empty((3,3,5))"
   ]
  },
  {
   "cell_type": "code",
   "execution_count": 41,
   "id": "5dd24ff9-3bde-4b67-b44d-98a1807eb215",
   "metadata": {},
   "outputs": [
    {
     "data": {
      "text/plain": [
       "array([[1., 0., 0., 0.],\n",
       "       [0., 1., 0., 0.],\n",
       "       [0., 0., 1., 0.],\n",
       "       [0., 0., 0., 1.]])"
      ]
     },
     "execution_count": 41,
     "metadata": {},
     "output_type": "execute_result"
    }
   ],
   "source": [
    "#Creating identity matrix using  np.eye()\n",
    "\n",
    "np.eye(4) #will make 4,4 matrix"
   ]
  },
  {
   "cell_type": "code",
   "execution_count": 43,
   "id": "76da09d0-d6e5-4a32-8722-78bab6e2c35c",
   "metadata": {},
   "outputs": [
    {
     "data": {
      "text/plain": [
       "array([2.        , 2.05263158, 2.10526316, 2.15789474, 2.21052632,\n",
       "       2.26315789, 2.31578947, 2.36842105, 2.42105263, 2.47368421,\n",
       "       2.52631579, 2.57894737, 2.63157895, 2.68421053, 2.73684211,\n",
       "       2.78947368, 2.84210526, 2.89473684, 2.94736842, 3.        ])"
      ]
     },
     "execution_count": 43,
     "metadata": {},
     "output_type": "execute_result"
    }
   ],
   "source": [
    "np.linspace(2,3,20) #2-3 divided into 20 parts \n",
    "\n"
   ]
  },
  {
   "cell_type": "code",
   "execution_count": 44,
   "id": "9ae442bc-26d2-4ba5-a7d0-3bc4a4d700f8",
   "metadata": {},
   "outputs": [
    {
     "data": {
      "text/plain": [
       "array([ 100.        ,  129.1549665 ,  166.81005372,  215.443469  ,\n",
       "        278.25594022,  359.38136638,  464.15888336,  599.48425032,\n",
       "        774.26368268, 1000.        ])"
      ]
     },
     "execution_count": 44,
     "metadata": {},
     "output_type": "execute_result"
    }
   ],
   "source": [
    "np.logspace(2,3,10) #return the log values"
   ]
  },
  {
   "cell_type": "code",
   "execution_count": 45,
   "id": "544185a5-2b44-46fc-a56c-483d11a96d85",
   "metadata": {},
   "outputs": [
    {
     "data": {
      "text/plain": [
       "array([4.        , 4.32023896, 4.66611616, 5.0396842 , 5.44316   ,\n",
       "       5.87893797, 6.34960421, 6.85795186, 7.4069977 , 8.        ])"
      ]
     },
     "execution_count": 45,
     "metadata": {},
     "output_type": "execute_result"
    }
   ],
   "source": [
    "np.logspace(2,3,10 , base = 2)"
   ]
  },
  {
   "cell_type": "code",
   "execution_count": 46,
   "id": "ae8999d1-ae6e-4962-aba4-1a617392eecf",
   "metadata": {},
   "outputs": [],
   "source": [
    "#random function : It will assign random numbers in matrix\n",
    "#In randn function ,value's mean = o and standard deviation will = 1.\n",
    "\n",
    "arr  = np.random.randn(4,3) #Will make 4*4 matr4ix with random values"
   ]
  },
  {
   "cell_type": "code",
   "execution_count": 47,
   "id": "f98f5844-dbdd-43fd-bc21-4b169d8eb337",
   "metadata": {},
   "outputs": [
    {
     "data": {
      "text/plain": [
       "array([[-0.86804536, -0.74723613,  0.3330246 ],\n",
       "       [-1.68755865,  0.73784991,  0.00575859],\n",
       "       [ 0.85034886,  0.64192068, -1.02782476],\n",
       "       [ 0.24875883, -0.78300422, -0.73762214]])"
      ]
     },
     "execution_count": 47,
     "metadata": {},
     "output_type": "execute_result"
    }
   ],
   "source": [
    "arr"
   ]
  },
  {
   "cell_type": "code",
   "execution_count": 48,
   "id": "6f79e1f4-1748-4a27-8abf-e82d6b2e0c96",
   "metadata": {},
   "outputs": [],
   "source": [
    "import pandas as pd"
   ]
  },
  {
   "cell_type": "code",
   "execution_count": 49,
   "id": "e5a472d6-f36b-45e4-a9bf-e4b096a76781",
   "metadata": {},
   "outputs": [
    {
     "data": {
      "text/html": [
       "<div>\n",
       "<style scoped>\n",
       "    .dataframe tbody tr th:only-of-type {\n",
       "        vertical-align: middle;\n",
       "    }\n",
       "\n",
       "    .dataframe tbody tr th {\n",
       "        vertical-align: top;\n",
       "    }\n",
       "\n",
       "    .dataframe thead th {\n",
       "        text-align: right;\n",
       "    }\n",
       "</style>\n",
       "<table border=\"1\" class=\"dataframe\">\n",
       "  <thead>\n",
       "    <tr style=\"text-align: right;\">\n",
       "      <th></th>\n",
       "      <th>0</th>\n",
       "      <th>1</th>\n",
       "      <th>2</th>\n",
       "    </tr>\n",
       "  </thead>\n",
       "  <tbody>\n",
       "    <tr>\n",
       "      <th>0</th>\n",
       "      <td>-0.868045</td>\n",
       "      <td>-0.747236</td>\n",
       "      <td>0.333025</td>\n",
       "    </tr>\n",
       "    <tr>\n",
       "      <th>1</th>\n",
       "      <td>-1.687559</td>\n",
       "      <td>0.737850</td>\n",
       "      <td>0.005759</td>\n",
       "    </tr>\n",
       "    <tr>\n",
       "      <th>2</th>\n",
       "      <td>0.850349</td>\n",
       "      <td>0.641921</td>\n",
       "      <td>-1.027825</td>\n",
       "    </tr>\n",
       "    <tr>\n",
       "      <th>3</th>\n",
       "      <td>0.248759</td>\n",
       "      <td>-0.783004</td>\n",
       "      <td>-0.737622</td>\n",
       "    </tr>\n",
       "  </tbody>\n",
       "</table>\n",
       "</div>"
      ],
      "text/plain": [
       "          0         1         2\n",
       "0 -0.868045 -0.747236  0.333025\n",
       "1 -1.687559  0.737850  0.005759\n",
       "2  0.850349  0.641921 -1.027825\n",
       "3  0.248759 -0.783004 -0.737622"
      ]
     },
     "execution_count": 49,
     "metadata": {},
     "output_type": "execute_result"
    }
   ],
   "source": [
    "#Converting the array int o pandas dataframe using dataframe function \n",
    "\n",
    "pd.DataFrame(arr)"
   ]
  },
  {
   "cell_type": "code",
   "execution_count": 52,
   "id": "3e959a4e-d910-4a80-9b7f-bb29f9dca6ef",
   "metadata": {},
   "outputs": [
    {
     "data": {
      "text/plain": [
       "array([[7, 7, 1],\n",
       "       [7, 3, 2],\n",
       "       [4, 2, 9],\n",
       "       [2, 4, 7]])"
      ]
     },
     "execution_count": 52,
     "metadata": {},
     "output_type": "execute_result"
    }
   ],
   "source": [
    "#randint : it will give random int values \n",
    "\n",
    "np.random.randint(1,10,(4,3)) #number - 1 to 10 , 4*3 matrix"
   ]
  },
  {
   "cell_type": "code",
   "execution_count": 56,
   "id": "ea02c97d-1731-4f45-8bf4-3ddaeec8a294",
   "metadata": {},
   "outputs": [
    {
     "data": {
      "text/plain": [
       "array([[0.28259486, 0.45214451, 0.84032311],\n",
       "       [0.21580878, 0.57594928, 0.69294576],\n",
       "       [0.25416743, 0.21482152, 0.31488465],\n",
       "       [0.38760726, 0.01894127, 0.89173984]])"
      ]
     },
     "execution_count": 56,
     "metadata": {},
     "output_type": "execute_result"
    }
   ],
   "source": [
    "#random,rand : it will give random positive values \n",
    "\n",
    "np.random.rand(4,3)"
   ]
  },
  {
   "cell_type": "code",
   "execution_count": 58,
   "id": "fcf92567-0b55-4303-bf4b-5da98a9a5d48",
   "metadata": {},
   "outputs": [],
   "source": [
    "#Will give random int values accordint to the given range \n",
    "\n",
    "df = np.random.randint(1,10,(80,90))"
   ]
  },
  {
   "cell_type": "code",
   "execution_count": 59,
   "id": "40618660-087c-4829-9765-5c8faa63abef",
   "metadata": {},
   "outputs": [],
   "source": [
    "#Converting it into dataframe\n",
    "\n",
    "df1 = pd.DataFrame(df)"
   ]
  },
  {
   "cell_type": "code",
   "execution_count": 60,
   "id": "456f3fdb-7f7b-4b3f-8690-2304d6078613",
   "metadata": {},
   "outputs": [
    {
     "data": {
      "text/html": [
       "<div>\n",
       "<style scoped>\n",
       "    .dataframe tbody tr th:only-of-type {\n",
       "        vertical-align: middle;\n",
       "    }\n",
       "\n",
       "    .dataframe tbody tr th {\n",
       "        vertical-align: top;\n",
       "    }\n",
       "\n",
       "    .dataframe thead th {\n",
       "        text-align: right;\n",
       "    }\n",
       "</style>\n",
       "<table border=\"1\" class=\"dataframe\">\n",
       "  <thead>\n",
       "    <tr style=\"text-align: right;\">\n",
       "      <th></th>\n",
       "      <th>0</th>\n",
       "      <th>1</th>\n",
       "      <th>2</th>\n",
       "      <th>3</th>\n",
       "      <th>4</th>\n",
       "      <th>5</th>\n",
       "      <th>6</th>\n",
       "      <th>7</th>\n",
       "      <th>8</th>\n",
       "      <th>9</th>\n",
       "      <th>...</th>\n",
       "      <th>80</th>\n",
       "      <th>81</th>\n",
       "      <th>82</th>\n",
       "      <th>83</th>\n",
       "      <th>84</th>\n",
       "      <th>85</th>\n",
       "      <th>86</th>\n",
       "      <th>87</th>\n",
       "      <th>88</th>\n",
       "      <th>89</th>\n",
       "    </tr>\n",
       "  </thead>\n",
       "  <tbody>\n",
       "    <tr>\n",
       "      <th>0</th>\n",
       "      <td>8</td>\n",
       "      <td>8</td>\n",
       "      <td>5</td>\n",
       "      <td>7</td>\n",
       "      <td>5</td>\n",
       "      <td>9</td>\n",
       "      <td>1</td>\n",
       "      <td>1</td>\n",
       "      <td>5</td>\n",
       "      <td>8</td>\n",
       "      <td>...</td>\n",
       "      <td>9</td>\n",
       "      <td>2</td>\n",
       "      <td>8</td>\n",
       "      <td>3</td>\n",
       "      <td>5</td>\n",
       "      <td>3</td>\n",
       "      <td>7</td>\n",
       "      <td>3</td>\n",
       "      <td>5</td>\n",
       "      <td>5</td>\n",
       "    </tr>\n",
       "    <tr>\n",
       "      <th>1</th>\n",
       "      <td>2</td>\n",
       "      <td>4</td>\n",
       "      <td>1</td>\n",
       "      <td>6</td>\n",
       "      <td>5</td>\n",
       "      <td>4</td>\n",
       "      <td>3</td>\n",
       "      <td>9</td>\n",
       "      <td>5</td>\n",
       "      <td>1</td>\n",
       "      <td>...</td>\n",
       "      <td>9</td>\n",
       "      <td>1</td>\n",
       "      <td>5</td>\n",
       "      <td>7</td>\n",
       "      <td>4</td>\n",
       "      <td>7</td>\n",
       "      <td>7</td>\n",
       "      <td>3</td>\n",
       "      <td>6</td>\n",
       "      <td>9</td>\n",
       "    </tr>\n",
       "    <tr>\n",
       "      <th>2</th>\n",
       "      <td>4</td>\n",
       "      <td>2</td>\n",
       "      <td>3</td>\n",
       "      <td>1</td>\n",
       "      <td>7</td>\n",
       "      <td>4</td>\n",
       "      <td>6</td>\n",
       "      <td>8</td>\n",
       "      <td>3</td>\n",
       "      <td>9</td>\n",
       "      <td>...</td>\n",
       "      <td>8</td>\n",
       "      <td>7</td>\n",
       "      <td>4</td>\n",
       "      <td>6</td>\n",
       "      <td>9</td>\n",
       "      <td>5</td>\n",
       "      <td>4</td>\n",
       "      <td>3</td>\n",
       "      <td>3</td>\n",
       "      <td>3</td>\n",
       "    </tr>\n",
       "    <tr>\n",
       "      <th>3</th>\n",
       "      <td>6</td>\n",
       "      <td>6</td>\n",
       "      <td>6</td>\n",
       "      <td>1</td>\n",
       "      <td>5</td>\n",
       "      <td>7</td>\n",
       "      <td>5</td>\n",
       "      <td>1</td>\n",
       "      <td>5</td>\n",
       "      <td>3</td>\n",
       "      <td>...</td>\n",
       "      <td>9</td>\n",
       "      <td>5</td>\n",
       "      <td>4</td>\n",
       "      <td>3</td>\n",
       "      <td>4</td>\n",
       "      <td>5</td>\n",
       "      <td>1</td>\n",
       "      <td>5</td>\n",
       "      <td>9</td>\n",
       "      <td>4</td>\n",
       "    </tr>\n",
       "    <tr>\n",
       "      <th>4</th>\n",
       "      <td>2</td>\n",
       "      <td>2</td>\n",
       "      <td>6</td>\n",
       "      <td>1</td>\n",
       "      <td>2</td>\n",
       "      <td>2</td>\n",
       "      <td>8</td>\n",
       "      <td>3</td>\n",
       "      <td>9</td>\n",
       "      <td>2</td>\n",
       "      <td>...</td>\n",
       "      <td>7</td>\n",
       "      <td>7</td>\n",
       "      <td>4</td>\n",
       "      <td>7</td>\n",
       "      <td>2</td>\n",
       "      <td>6</td>\n",
       "      <td>6</td>\n",
       "      <td>1</td>\n",
       "      <td>4</td>\n",
       "      <td>5</td>\n",
       "    </tr>\n",
       "    <tr>\n",
       "      <th>...</th>\n",
       "      <td>...</td>\n",
       "      <td>...</td>\n",
       "      <td>...</td>\n",
       "      <td>...</td>\n",
       "      <td>...</td>\n",
       "      <td>...</td>\n",
       "      <td>...</td>\n",
       "      <td>...</td>\n",
       "      <td>...</td>\n",
       "      <td>...</td>\n",
       "      <td>...</td>\n",
       "      <td>...</td>\n",
       "      <td>...</td>\n",
       "      <td>...</td>\n",
       "      <td>...</td>\n",
       "      <td>...</td>\n",
       "      <td>...</td>\n",
       "      <td>...</td>\n",
       "      <td>...</td>\n",
       "      <td>...</td>\n",
       "      <td>...</td>\n",
       "    </tr>\n",
       "    <tr>\n",
       "      <th>75</th>\n",
       "      <td>2</td>\n",
       "      <td>5</td>\n",
       "      <td>2</td>\n",
       "      <td>2</td>\n",
       "      <td>8</td>\n",
       "      <td>5</td>\n",
       "      <td>8</td>\n",
       "      <td>9</td>\n",
       "      <td>9</td>\n",
       "      <td>6</td>\n",
       "      <td>...</td>\n",
       "      <td>1</td>\n",
       "      <td>7</td>\n",
       "      <td>8</td>\n",
       "      <td>7</td>\n",
       "      <td>6</td>\n",
       "      <td>4</td>\n",
       "      <td>4</td>\n",
       "      <td>3</td>\n",
       "      <td>9</td>\n",
       "      <td>1</td>\n",
       "    </tr>\n",
       "    <tr>\n",
       "      <th>76</th>\n",
       "      <td>3</td>\n",
       "      <td>9</td>\n",
       "      <td>8</td>\n",
       "      <td>4</td>\n",
       "      <td>9</td>\n",
       "      <td>3</td>\n",
       "      <td>5</td>\n",
       "      <td>7</td>\n",
       "      <td>6</td>\n",
       "      <td>4</td>\n",
       "      <td>...</td>\n",
       "      <td>5</td>\n",
       "      <td>2</td>\n",
       "      <td>1</td>\n",
       "      <td>2</td>\n",
       "      <td>4</td>\n",
       "      <td>4</td>\n",
       "      <td>3</td>\n",
       "      <td>8</td>\n",
       "      <td>8</td>\n",
       "      <td>1</td>\n",
       "    </tr>\n",
       "    <tr>\n",
       "      <th>77</th>\n",
       "      <td>1</td>\n",
       "      <td>6</td>\n",
       "      <td>4</td>\n",
       "      <td>7</td>\n",
       "      <td>2</td>\n",
       "      <td>9</td>\n",
       "      <td>6</td>\n",
       "      <td>1</td>\n",
       "      <td>2</td>\n",
       "      <td>3</td>\n",
       "      <td>...</td>\n",
       "      <td>9</td>\n",
       "      <td>9</td>\n",
       "      <td>2</td>\n",
       "      <td>1</td>\n",
       "      <td>3</td>\n",
       "      <td>1</td>\n",
       "      <td>5</td>\n",
       "      <td>2</td>\n",
       "      <td>6</td>\n",
       "      <td>9</td>\n",
       "    </tr>\n",
       "    <tr>\n",
       "      <th>78</th>\n",
       "      <td>8</td>\n",
       "      <td>1</td>\n",
       "      <td>9</td>\n",
       "      <td>5</td>\n",
       "      <td>4</td>\n",
       "      <td>1</td>\n",
       "      <td>2</td>\n",
       "      <td>8</td>\n",
       "      <td>6</td>\n",
       "      <td>4</td>\n",
       "      <td>...</td>\n",
       "      <td>1</td>\n",
       "      <td>1</td>\n",
       "      <td>6</td>\n",
       "      <td>2</td>\n",
       "      <td>4</td>\n",
       "      <td>4</td>\n",
       "      <td>7</td>\n",
       "      <td>8</td>\n",
       "      <td>1</td>\n",
       "      <td>9</td>\n",
       "    </tr>\n",
       "    <tr>\n",
       "      <th>79</th>\n",
       "      <td>9</td>\n",
       "      <td>7</td>\n",
       "      <td>7</td>\n",
       "      <td>2</td>\n",
       "      <td>3</td>\n",
       "      <td>3</td>\n",
       "      <td>1</td>\n",
       "      <td>8</td>\n",
       "      <td>3</td>\n",
       "      <td>1</td>\n",
       "      <td>...</td>\n",
       "      <td>7</td>\n",
       "      <td>7</td>\n",
       "      <td>9</td>\n",
       "      <td>3</td>\n",
       "      <td>9</td>\n",
       "      <td>3</td>\n",
       "      <td>7</td>\n",
       "      <td>2</td>\n",
       "      <td>6</td>\n",
       "      <td>1</td>\n",
       "    </tr>\n",
       "  </tbody>\n",
       "</table>\n",
       "<p>80 rows × 90 columns</p>\n",
       "</div>"
      ],
      "text/plain": [
       "    0   1   2   3   4   5   6   7   8   9   ...  80  81  82  83  84  85  86  \\\n",
       "0    8   8   5   7   5   9   1   1   5   8  ...   9   2   8   3   5   3   7   \n",
       "1    2   4   1   6   5   4   3   9   5   1  ...   9   1   5   7   4   7   7   \n",
       "2    4   2   3   1   7   4   6   8   3   9  ...   8   7   4   6   9   5   4   \n",
       "3    6   6   6   1   5   7   5   1   5   3  ...   9   5   4   3   4   5   1   \n",
       "4    2   2   6   1   2   2   8   3   9   2  ...   7   7   4   7   2   6   6   \n",
       "..  ..  ..  ..  ..  ..  ..  ..  ..  ..  ..  ...  ..  ..  ..  ..  ..  ..  ..   \n",
       "75   2   5   2   2   8   5   8   9   9   6  ...   1   7   8   7   6   4   4   \n",
       "76   3   9   8   4   9   3   5   7   6   4  ...   5   2   1   2   4   4   3   \n",
       "77   1   6   4   7   2   9   6   1   2   3  ...   9   9   2   1   3   1   5   \n",
       "78   8   1   9   5   4   1   2   8   6   4  ...   1   1   6   2   4   4   7   \n",
       "79   9   7   7   2   3   3   1   8   3   1  ...   7   7   9   3   9   3   7   \n",
       "\n",
       "    87  88  89  \n",
       "0    3   5   5  \n",
       "1    3   6   9  \n",
       "2    3   3   3  \n",
       "3    5   9   4  \n",
       "4    1   4   5  \n",
       "..  ..  ..  ..  \n",
       "75   3   9   1  \n",
       "76   8   8   1  \n",
       "77   2   6   9  \n",
       "78   8   1   9  \n",
       "79   2   6   1  \n",
       "\n",
       "[80 rows x 90 columns]"
      ]
     },
     "execution_count": 60,
     "metadata": {},
     "output_type": "execute_result"
    }
   ],
   "source": [
    "df1"
   ]
  },
  {
   "cell_type": "code",
   "execution_count": 62,
   "id": "398e71fa-8b65-4ec0-ac3b-621ce8b370ee",
   "metadata": {},
   "outputs": [],
   "source": [
    "#Storing all the data into a csv file name test\n",
    "\n",
    "df1.to_csv('test.csv')"
   ]
  },
  {
   "cell_type": "code",
   "execution_count": 63,
   "id": "b2417df1-3075-48ba-bf67-fe2f1ab463f5",
   "metadata": {},
   "outputs": [],
   "source": [
    "arr = np.random.rand(3,4)"
   ]
  },
  {
   "cell_type": "code",
   "execution_count": 64,
   "id": "2a5d0999-bb96-4a11-b707-c75bc4dc3cae",
   "metadata": {},
   "outputs": [
    {
     "data": {
      "text/plain": [
       "array([[0.6071401 , 0.6562767 , 0.70825392, 0.46042673],\n",
       "       [0.15648018, 0.11413611, 0.42497708, 0.24623317],\n",
       "       [0.55392506, 0.32291999, 0.4662884 , 0.68621277]])"
      ]
     },
     "execution_count": 64,
     "metadata": {},
     "output_type": "execute_result"
    }
   ],
   "source": [
    "arr"
   ]
  },
  {
   "cell_type": "code",
   "execution_count": 66,
   "id": "b9eaeaa7-cc6b-478a-9f48-c564dc871c77",
   "metadata": {},
   "outputs": [
    {
     "data": {
      "text/plain": [
       "array([[0.6071401 , 0.6562767 ],\n",
       "       [0.70825392, 0.46042673],\n",
       "       [0.15648018, 0.11413611],\n",
       "       [0.42497708, 0.24623317],\n",
       "       [0.55392506, 0.32291999],\n",
       "       [0.4662884 , 0.68621277]])"
      ]
     },
     "execution_count": 66,
     "metadata": {},
     "output_type": "execute_result"
    }
   ],
   "source": [
    "# to change the dimension or shape of the array arr\n",
    "arr.reshape(6,2) #3,4 into 6,2 or we can also make it 2,6 or 4,3"
   ]
  },
  {
   "cell_type": "code",
   "execution_count": 68,
   "id": "01d6e550-994a-4d44-b205-792d72679ac4",
   "metadata": {},
   "outputs": [],
   "source": [
    "arr1  = arr.reshape(6,-3904980835) #it'll consider the negative values by default 2"
   ]
  },
  {
   "cell_type": "code",
   "execution_count": 69,
   "id": "b1d4a6e0-83fd-45aa-a8a6-4eb19c20edf3",
   "metadata": {},
   "outputs": [
    {
     "data": {
      "text/plain": [
       "array([[0.6071401 , 0.6562767 ],\n",
       "       [0.70825392, 0.46042673],\n",
       "       [0.15648018, 0.11413611],\n",
       "       [0.42497708, 0.24623317],\n",
       "       [0.55392506, 0.32291999],\n",
       "       [0.4662884 , 0.68621277]])"
      ]
     },
     "execution_count": 69,
     "metadata": {},
     "output_type": "execute_result"
    }
   ],
   "source": [
    "\n",
    "\n",
    "arr1"
   ]
  },
  {
   "cell_type": "code",
   "execution_count": 70,
   "id": "de032b25-c019-46d0-88a5-38b89388bf22",
   "metadata": {},
   "outputs": [
    {
     "data": {
      "text/plain": [
       "0.46042673427726655"
      ]
     },
     "execution_count": 70,
     "metadata": {},
     "output_type": "execute_result"
    }
   ],
   "source": [
    "#aceesiing element at 1st row 2nd column\n",
    "\n",
    "arr1[1][1]"
   ]
  },
  {
   "cell_type": "code",
   "execution_count": 72,
   "id": "5f9b8cf6-b77a-4ffc-bcd9-2f42aa901c4b",
   "metadata": {},
   "outputs": [
    {
     "data": {
      "text/plain": [
       "array([0.11413611, 0.24623317, 0.32291999])"
      ]
     },
     "execution_count": 72,
     "metadata": {},
     "output_type": "execute_result"
    }
   ],
   "source": [
    "#accessing multiple elements from the array\n",
    "#accesiing elements at 2,3,4th row and 1 column\n",
    "\n",
    "arr1[2:5,1]  #from 2 to 5-1 row and from 1st column"
   ]
  },
  {
   "cell_type": "code",
   "execution_count": 74,
   "id": "eb764871-3f27-4be9-9ddf-e9fe13888830",
   "metadata": {},
   "outputs": [],
   "source": [
    "arr11 = np.random.randint(1,100,(5,5))"
   ]
  },
  {
   "cell_type": "code",
   "execution_count": 75,
   "id": "57dd76cd-99db-4592-9ea9-f08cfc5d7a33",
   "metadata": {},
   "outputs": [
    {
     "data": {
      "text/plain": [
       "array([[95, 35, 67, 33, 70],\n",
       "       [20, 84, 11, 73, 55],\n",
       "       [ 4, 57, 69, 71, 76],\n",
       "       [15, 90, 87, 15, 37],\n",
       "       [71,  9, 63,  4, 45]])"
      ]
     },
     "execution_count": 75,
     "metadata": {},
     "output_type": "execute_result"
    }
   ],
   "source": [
    "arr11"
   ]
  },
  {
   "cell_type": "code",
   "execution_count": 76,
   "id": "d032768c-966e-4bcd-8aa0-f5df44ed1a4c",
   "metadata": {},
   "outputs": [
    {
     "data": {
      "text/plain": [
       "array([[ True, False,  True, False,  True],\n",
       "       [False,  True, False,  True,  True],\n",
       "       [False,  True,  True,  True,  True],\n",
       "       [False,  True,  True, False, False],\n",
       "       [ True, False,  True, False, False]])"
      ]
     },
     "execution_count": 76,
     "metadata": {},
     "output_type": "execute_result"
    }
   ],
   "source": [
    "#Find the data whoch is greater than the 50 :\n",
    "\n",
    "#Step1\n",
    "\n",
    "arr11 > 50"
   ]
  },
  {
   "cell_type": "code",
   "execution_count": 77,
   "id": "d58d4cd6-b4e3-4b07-96ae-ef3853474e16",
   "metadata": {},
   "outputs": [
    {
     "data": {
      "text/plain": [
       "array([95, 67, 70, 84, 73, 55, 57, 69, 71, 76, 90, 87, 71, 63])"
      ]
     },
     "execution_count": 77,
     "metadata": {},
     "output_type": "execute_result"
    }
   ],
   "source": [
    "#Step 2\n",
    "\n",
    "arr11[arr11>50]"
   ]
  },
  {
   "cell_type": "code",
   "execution_count": 78,
   "id": "ed68a1c0-dc0f-4de0-9aac-10aaa861a4d5",
   "metadata": {},
   "outputs": [
    {
     "data": {
      "text/plain": [
       "array([[57, 69],\n",
       "       [90, 87]])"
      ]
     },
     "execution_count": 78,
     "metadata": {},
     "output_type": "execute_result"
    }
   ],
   "source": [
    "arr11[2:4,1:3]"
   ]
  },
  {
   "cell_type": "code",
   "execution_count": 79,
   "id": "fd1e5b61-26a9-4fa8-b85c-a073a313a943",
   "metadata": {},
   "outputs": [
    {
     "data": {
      "text/plain": [
       "95"
      ]
     },
     "execution_count": 79,
     "metadata": {},
     "output_type": "execute_result"
    }
   ],
   "source": [
    "arr11[0][0]"
   ]
  },
  {
   "cell_type": "code",
   "execution_count": 80,
   "id": "16fb5fb6-2e32-459e-ba11-aad3c54a5b32",
   "metadata": {},
   "outputs": [],
   "source": [
    "#channgin value at 0,0\n",
    "\n",
    "arr11[0][0] = 99"
   ]
  },
  {
   "cell_type": "code",
   "execution_count": 81,
   "id": "e2b5e664-7bbf-4fb1-afe4-91e98163c2c5",
   "metadata": {},
   "outputs": [
    {
     "data": {
      "text/plain": [
       "array([[99, 35, 67, 33, 70],\n",
       "       [20, 84, 11, 73, 55],\n",
       "       [ 4, 57, 69, 71, 76],\n",
       "       [15, 90, 87, 15, 37],\n",
       "       [71,  9, 63,  4, 45]])"
      ]
     },
     "execution_count": 81,
     "metadata": {},
     "output_type": "execute_result"
    }
   ],
   "source": [
    "arr11\n"
   ]
  },
  {
   "cell_type": "markdown",
   "id": "4817093e-1980-4900-a5a0-d02bb5e9aadf",
   "metadata": {},
   "source": [
    "."
   ]
  },
  {
   "cell_type": "code",
   "execution_count": 82,
   "id": "4bd6d543-ae81-48b4-a97e-aa6c083d3a3b",
   "metadata": {},
   "outputs": [],
   "source": [
    "arr1 = np.random.randint(1,3,(3,3))\n",
    "arr2 = np.random.randint(1,3,(3,3))"
   ]
  },
  {
   "cell_type": "code",
   "execution_count": 84,
   "id": "0d5ae41e-b573-41cb-8c5b-2d9f7c4a21aa",
   "metadata": {},
   "outputs": [
    {
     "data": {
      "text/plain": [
       "array([[1, 2, 2],\n",
       "       [2, 4, 2],\n",
       "       [2, 4, 4]])"
      ]
     },
     "execution_count": 84,
     "metadata": {},
     "output_type": "execute_result"
    }
   ],
   "source": [
    "arr1 * arr2 #nornal nultiplication not matrix multiplication"
   ]
  },
  {
   "cell_type": "code",
   "execution_count": 85,
   "id": "efa817eb-180f-4d1c-8a7a-1d3fba164ae5",
   "metadata": {},
   "outputs": [
    {
     "data": {
      "text/plain": [
       "array([[ 0,  1, -1],\n",
       "       [ 1,  0, -1],\n",
       "       [-1,  0,  0]])"
      ]
     },
     "execution_count": 85,
     "metadata": {},
     "output_type": "execute_result"
    }
   ],
   "source": [
    "arr1 - arr2"
   ]
  },
  {
   "cell_type": "code",
   "execution_count": 86,
   "id": "5fc202b5-7638-464a-97e8-0b4058a0a83b",
   "metadata": {},
   "outputs": [
    {
     "data": {
      "text/plain": [
       "array([[1. , 2. , 0.5],\n",
       "       [2. , 1. , 0.5],\n",
       "       [0.5, 1. , 1. ]])"
      ]
     },
     "execution_count": 86,
     "metadata": {},
     "output_type": "execute_result"
    }
   ],
   "source": [
    "\n",
    "arr1/arr2"
   ]
  },
  {
   "cell_type": "code",
   "execution_count": 90,
   "id": "b3de8f2c-dfd6-46bc-86ae-81abd6f61742",
   "metadata": {},
   "outputs": [
    {
     "data": {
      "text/plain": [
       "array([[ 5,  7,  8],\n",
       "       [ 6,  8, 10],\n",
       "       [ 7,  9, 10]])"
      ]
     },
     "execution_count": 90,
     "metadata": {},
     "output_type": "execute_result"
    }
   ],
   "source": [
    "#To perfrom the matrix multiplication Using @ function \n",
    "\n",
    "arr1@arr2"
   ]
  },
  {
   "cell_type": "code",
   "execution_count": 92,
   "id": "817f4797-9aa5-4586-80e9-a48a751e1e1f",
   "metadata": {},
   "outputs": [
    {
     "name": "stderr",
     "output_type": "stream",
     "text": [
      "/tmp/ipykernel_2925/2189651139.py:1: RuntimeWarning: divide by zero encountered in divide\n",
      "  arr1/0 #Will  return infinity not error like we get in python\n"
     ]
    },
    {
     "data": {
      "text/plain": [
       "array([[inf, inf, inf],\n",
       "       [inf, inf, inf],\n",
       "       [inf, inf, inf]])"
      ]
     },
     "execution_count": 92,
     "metadata": {},
     "output_type": "execute_result"
    }
   ],
   "source": [
    "arr1/0 #Will  return infinity not error like we get in python "
   ]
  },
  {
   "cell_type": "code",
   "execution_count": 93,
   "id": "61d53bb5-45b2-4e27-ae44-94dd4098497f",
   "metadata": {},
   "outputs": [
    {
     "data": {
      "text/plain": [
       "array([[1, 8, 1],\n",
       "       [8, 8, 1],\n",
       "       [1, 8, 8]])"
      ]
     },
     "execution_count": 93,
     "metadata": {},
     "output_type": "execute_result"
    }
   ],
   "source": [
    "#Cubing every eleemnt \n",
    "\n",
    "arr1**3"
   ]
  },
  {
   "cell_type": "markdown",
   "id": "e5e0da81-da77-4c12-a8e8-c94f75456264",
   "metadata": {},
   "source": [
    "Broadcasting in array "
   ]
  },
  {
   "cell_type": "code",
   "execution_count": 94,
   "id": "9b73442e-2743-40a0-81a0-8b10e08a8467",
   "metadata": {},
   "outputs": [
    {
     "data": {
      "text/plain": [
       "array([[1, 8, 1],\n",
       "       [8, 8, 1],\n",
       "       [1, 8, 8]])"
      ]
     },
     "execution_count": 94,
     "metadata": {},
     "output_type": "execute_result"
    }
   ],
   "source": [
    "arr1**3"
   ]
  },
  {
   "cell_type": "code",
   "execution_count": 96,
   "id": "7ce8a5e5-4880-4e86-b931-1ebf5e907ffa",
   "metadata": {},
   "outputs": [],
   "source": [
    "arr = np.zeros(4)"
   ]
  },
  {
   "cell_type": "code",
   "execution_count": 97,
   "id": "d9eb5c32-1803-40c2-bd82-c6ca70572840",
   "metadata": {},
   "outputs": [
    {
     "data": {
      "text/plain": [
       "array([0., 0., 0., 0.])"
      ]
     },
     "execution_count": 97,
     "metadata": {},
     "output_type": "execute_result"
    }
   ],
   "source": [
    "arr"
   ]
  },
  {
   "cell_type": "code",
   "execution_count": 98,
   "id": "121f7796-f454-4dad-a08b-f74a605ad306",
   "metadata": {},
   "outputs": [],
   "source": [
    "arr = np.zeros((4,4))"
   ]
  },
  {
   "cell_type": "code",
   "execution_count": 99,
   "id": "7e788326-0c75-40b9-9d2a-f32d9fc2efee",
   "metadata": {},
   "outputs": [
    {
     "data": {
      "text/plain": [
       "array([[0., 0., 0., 0.],\n",
       "       [0., 0., 0., 0.],\n",
       "       [0., 0., 0., 0.],\n",
       "       [0., 0., 0., 0.]])"
      ]
     },
     "execution_count": 99,
     "metadata": {},
     "output_type": "execute_result"
    }
   ],
   "source": [
    "arr"
   ]
  },
  {
   "cell_type": "code",
   "execution_count": 100,
   "id": "c2d7c854-9296-48df-99b5-cbb7dd663a36",
   "metadata": {},
   "outputs": [],
   "source": [
    "row = np.array([1,2,3,4])"
   ]
  },
  {
   "cell_type": "code",
   "execution_count": 101,
   "id": "b0f38151-d67c-4453-bda9-d14601b11169",
   "metadata": {},
   "outputs": [
    {
     "data": {
      "text/plain": [
       "array([1, 2, 3, 4])"
      ]
     },
     "execution_count": 101,
     "metadata": {},
     "output_type": "execute_result"
    }
   ],
   "source": [
    "row"
   ]
  },
  {
   "cell_type": "code",
   "execution_count": 102,
   "id": "5570cc31-1029-47e2-81e0-041a5ebf0ef3",
   "metadata": {},
   "outputs": [
    {
     "data": {
      "text/plain": [
       "array([[1., 2., 3., 4.],\n",
       "       [1., 2., 3., 4.],\n",
       "       [1., 2., 3., 4.],\n",
       "       [1., 2., 3., 4.]])"
      ]
     },
     "execution_count": 102,
     "metadata": {},
     "output_type": "execute_result"
    }
   ],
   "source": [
    "#Adding the element in each row\n",
    "\n",
    "arr  + row"
   ]
  },
  {
   "cell_type": "code",
   "execution_count": 103,
   "id": "ad582d76-672f-433f-8185-733b5e923e7c",
   "metadata": {},
   "outputs": [
    {
     "data": {
      "text/plain": [
       "array([[1009., 1009., 1009., 1009.],\n",
       "       [1009., 1009., 1009., 1009.],\n",
       "       [1009., 1009., 1009., 1009.],\n",
       "       [1009., 1009., 1009., 1009.]])"
      ]
     },
     "execution_count": 103,
     "metadata": {},
     "output_type": "execute_result"
    }
   ],
   "source": [
    "#we can add any number directly like we are adding the rows\n",
    "arr+1009"
   ]
  },
  {
   "cell_type": "code",
   "execution_count": 104,
   "id": "8e3ed62d-6227-47dd-b1e1-0ecf03624719",
   "metadata": {},
   "outputs": [],
   "source": [
    "#Now adding same values in columns instead of the row\n",
    "#first we have to convert the matrix into 2d to transpose it\n",
    "#Then we have to transpose the matrix\n",
    "\n",
    "col = np.array([[1,2,3,4]]) #using two brackets wil make it 2d array"
   ]
  },
  {
   "cell_type": "code",
   "execution_count": 105,
   "id": "c6ff5fc3-b262-47c2-bd7a-4c24dd1848f4",
   "metadata": {},
   "outputs": [
    {
     "data": {
      "text/plain": [
       "array([[1, 2, 3, 4]])"
      ]
     },
     "execution_count": 105,
     "metadata": {},
     "output_type": "execute_result"
    }
   ],
   "source": [
    "col"
   ]
  },
  {
   "cell_type": "code",
   "execution_count": 107,
   "id": "baea127d-a33d-45f2-b4c4-0f57ab79938e",
   "metadata": {},
   "outputs": [],
   "source": [
    "col1 = col.T #trandposed by 180 degree"
   ]
  },
  {
   "cell_type": "code",
   "execution_count": 108,
   "id": "6eddbb49-d750-42ca-83d1-90b15b26fbb5",
   "metadata": {},
   "outputs": [
    {
     "data": {
      "text/plain": [
       "array([[1],\n",
       "       [2],\n",
       "       [3],\n",
       "       [4]])"
      ]
     },
     "execution_count": 108,
     "metadata": {},
     "output_type": "execute_result"
    }
   ],
   "source": [
    "col1"
   ]
  },
  {
   "cell_type": "code",
   "execution_count": 109,
   "id": "1da5ce7a-eb55-4a03-9c6b-7b521f337795",
   "metadata": {},
   "outputs": [
    {
     "data": {
      "text/plain": [
       "array([[1., 1., 1., 1.],\n",
       "       [2., 2., 2., 2.],\n",
       "       [3., 3., 3., 3.],\n",
       "       [4., 4., 4., 4.]])"
      ]
     },
     "execution_count": 109,
     "metadata": {},
     "output_type": "execute_result"
    }
   ],
   "source": [
    "col1 +arr"
   ]
  },
  {
   "cell_type": "code",
   "execution_count": 111,
   "id": "5e15b160-638c-4d77-b671-d22915179dea",
   "metadata": {},
   "outputs": [
    {
     "data": {
      "text/plain": [
       "array([[1., 2., 3., 4.],\n",
       "       [1., 2., 3., 4.],\n",
       "       [1., 2., 3., 4.],\n",
       "       [1., 2., 3., 4.]])"
      ]
     },
     "execution_count": 111,
     "metadata": {},
     "output_type": "execute_result"
    }
   ],
   "source": [
    "arr + row"
   ]
  },
  {
   "cell_type": "code",
   "execution_count": 112,
   "id": "d38a2c6f-96ed-4f10-964b-e8c772dd7608",
   "metadata": {},
   "outputs": [],
   "source": [
    "arr1 = np.random.randint(1,4,(3,4))"
   ]
  },
  {
   "cell_type": "code",
   "execution_count": 113,
   "id": "ce33f7b8-0322-48b7-b018-3000439fdcce",
   "metadata": {},
   "outputs": [
    {
     "data": {
      "text/plain": [
       "array([[3, 3, 3, 3],\n",
       "       [2, 3, 1, 1],\n",
       "       [3, 1, 1, 1]])"
      ]
     },
     "execution_count": 113,
     "metadata": {},
     "output_type": "execute_result"
    }
   ],
   "source": [
    "arr1"
   ]
  },
  {
   "cell_type": "code",
   "execution_count": 114,
   "id": "39bef647-beeb-4475-9c38-65d53441bc88",
   "metadata": {},
   "outputs": [
    {
     "data": {
      "text/plain": [
       "array([[1.73205081, 1.73205081, 1.73205081, 1.73205081],\n",
       "       [1.41421356, 1.73205081, 1.        , 1.        ],\n",
       "       [1.73205081, 1.        , 1.        , 1.        ]])"
      ]
     },
     "execution_count": 114,
     "metadata": {},
     "output_type": "execute_result"
    }
   ],
   "source": [
    "np.sqrt(arr1) #Finding the sqrt of all the elements"
   ]
  },
  {
   "cell_type": "code",
   "execution_count": 115,
   "id": "0a5cf0ce-e6f8-4a9b-9e92-5a5c86029fb7",
   "metadata": {},
   "outputs": [
    {
     "data": {
      "text/plain": [
       "array([[9, 9, 9, 9],\n",
       "       [4, 9, 1, 1],\n",
       "       [9, 1, 1, 1]])"
      ]
     },
     "execution_count": 115,
     "metadata": {},
     "output_type": "execute_result"
    }
   ],
   "source": [
    "np.square(arr1)"
   ]
  },
  {
   "cell_type": "code",
   "execution_count": 118,
   "id": "a6e23014-0167-4243-bc2e-6f30635a42ec",
   "metadata": {},
   "outputs": [],
   "source": [
    "a =np.cumsum(arr1)"
   ]
  },
  {
   "cell_type": "code",
   "execution_count": 119,
   "id": "9d8a42c4-0b77-4032-a41b-39ed0ec81cfa",
   "metadata": {},
   "outputs": [
    {
     "data": {
      "text/html": [
       "<div>\n",
       "<style scoped>\n",
       "    .dataframe tbody tr th:only-of-type {\n",
       "        vertical-align: middle;\n",
       "    }\n",
       "\n",
       "    .dataframe tbody tr th {\n",
       "        vertical-align: top;\n",
       "    }\n",
       "\n",
       "    .dataframe thead th {\n",
       "        text-align: right;\n",
       "    }\n",
       "</style>\n",
       "<table border=\"1\" class=\"dataframe\">\n",
       "  <thead>\n",
       "    <tr style=\"text-align: right;\">\n",
       "      <th></th>\n",
       "      <th>0</th>\n",
       "    </tr>\n",
       "  </thead>\n",
       "  <tbody>\n",
       "    <tr>\n",
       "      <th>0</th>\n",
       "      <td>3</td>\n",
       "    </tr>\n",
       "    <tr>\n",
       "      <th>1</th>\n",
       "      <td>6</td>\n",
       "    </tr>\n",
       "    <tr>\n",
       "      <th>2</th>\n",
       "      <td>9</td>\n",
       "    </tr>\n",
       "    <tr>\n",
       "      <th>3</th>\n",
       "      <td>12</td>\n",
       "    </tr>\n",
       "    <tr>\n",
       "      <th>4</th>\n",
       "      <td>14</td>\n",
       "    </tr>\n",
       "    <tr>\n",
       "      <th>5</th>\n",
       "      <td>17</td>\n",
       "    </tr>\n",
       "    <tr>\n",
       "      <th>6</th>\n",
       "      <td>18</td>\n",
       "    </tr>\n",
       "    <tr>\n",
       "      <th>7</th>\n",
       "      <td>19</td>\n",
       "    </tr>\n",
       "    <tr>\n",
       "      <th>8</th>\n",
       "      <td>22</td>\n",
       "    </tr>\n",
       "    <tr>\n",
       "      <th>9</th>\n",
       "      <td>23</td>\n",
       "    </tr>\n",
       "    <tr>\n",
       "      <th>10</th>\n",
       "      <td>24</td>\n",
       "    </tr>\n",
       "    <tr>\n",
       "      <th>11</th>\n",
       "      <td>25</td>\n",
       "    </tr>\n",
       "  </tbody>\n",
       "</table>\n",
       "</div>"
      ],
      "text/plain": [
       "     0\n",
       "0    3\n",
       "1    6\n",
       "2    9\n",
       "3   12\n",
       "4   14\n",
       "5   17\n",
       "6   18\n",
       "7   19\n",
       "8   22\n",
       "9   23\n",
       "10  24\n",
       "11  25"
      ]
     },
     "execution_count": 119,
     "metadata": {},
     "output_type": "execute_result"
    }
   ],
   "source": [
    "pd.DataFrame(a)"
   ]
  },
  {
   "cell_type": "code",
   "execution_count": null,
   "id": "a9a9d3c7-fcae-4bba-b78a-2e078f3d87e2",
   "metadata": {},
   "outputs": [],
   "source": []
  }
 ],
 "metadata": {
  "kernelspec": {
   "display_name": "Python 3 (ipykernel)",
   "language": "python",
   "name": "python3"
  },
  "language_info": {
   "codemirror_mode": {
    "name": "ipython",
    "version": 3
   },
   "file_extension": ".py",
   "mimetype": "text/x-python",
   "name": "python",
   "nbconvert_exporter": "python",
   "pygments_lexer": "ipython3",
   "version": "3.10.8"
  }
 },
 "nbformat": 4,
 "nbformat_minor": 5
}
